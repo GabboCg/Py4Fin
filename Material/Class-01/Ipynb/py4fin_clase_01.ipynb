{
 "cells": [
  {
   "cell_type": "markdown",
   "metadata": {
    "id": "Hcckbt6119D3"
   },
   "source": [
    "# <img src=\"https://escudouchile.files.wordpress.com/2012/07/logo-economia-u-de-chile.jpg\" height=\"250\" /> \n",
    "\n",
    "# Introducción a Python para las Finanzas\n",
    "\n",
    "## _&gt; Variables, Convenciones & Tipos de Datos_\n",
    "\n",
    "Gabriel E. Cabrera, M.Sc.<br>\n",
    "<span style = 'font-size: 100%;'>Universidad de Chile<br>\n",
    "Magister en Finanzas - Full Time</span>\n",
    "\n",
    "*Otoño 2021*\n",
    "\n",
    "> Bad programmers worry about the code. Good programmers worry about data structures and their relationships. \n",
    "<br> <div align=\"right\">— __Linus Torvalds__ </div>\n"
   ]
  },
  {
   "cell_type": "markdown",
   "metadata": {
    "id": "OgFU4ge06BAB"
   },
   "source": [
    "# Variables"
   ]
  },
  {
   "cell_type": "markdown",
   "metadata": {
    "id": "apiYt3XC7V7T"
   },
   "source": [
    "Una Variable en Python es un espacio en la memoria RAM de tu computadora donde puedes guardar resultados y objetos.\n",
    "Para crear una variable ocupamos una \"asignación\", es decir, una expresión con una igualdad. Lo que está a la izquierda del signo igual será el nombre de la variable donde quedará guardado el valor, y lo que está a la derecha del igual es el valor a guardar (*Aplicaciones de Manejo de Datos, 2020*).\n",
    "\n",
    "Por ejemplo, creemos la variable `ncel` y guardemos el valor `12345678`:"
   ]
  },
  {
   "cell_type": "code",
   "execution_count": null,
   "metadata": {
    "id": "2KGgWjyJ7sjx"
   },
   "outputs": [],
   "source": [
    "ncel = 12345678 # el simbolo = es el de asignación\n",
    "ncel"
   ]
  },
  {
   "cell_type": "markdown",
   "metadata": {
    "id": "ToR3lhf-1KqO"
   },
   "source": [
    "En python no es necesario terminar la linea de código con ; (semicolons), pero si cumple un rol:"
   ]
  },
  {
   "cell_type": "code",
   "execution_count": null,
   "metadata": {
    "id": "ai308IzK1KIU"
   },
   "outputs": [],
   "source": [
    "a = 1; b = 2; c = 3"
   ]
  },
  {
   "cell_type": "markdown",
   "metadata": {
    "id": "AmmDiSzz2CFn"
   },
   "source": [
    "También se puede asignar valores a varias variables en una sola linea de código:"
   ]
  },
  {
   "cell_type": "code",
   "execution_count": null,
   "metadata": {
    "id": "fTnrXzXD1-yP"
   },
   "outputs": [],
   "source": [
    "a, b, c = 1, 2, 3"
   ]
  },
  {
   "cell_type": "markdown",
   "metadata": {
    "id": "EymklMnB6FN1"
   },
   "source": [
    "# Convenciones"
   ]
  },
  {
   "cell_type": "markdown",
   "metadata": {
    "id": "_BSoBKav7WhI"
   },
   "source": [
    "1. Existen nombre de variables reservadas que no se deben usar debido que están reservados por Python:"
   ]
  },
  {
   "cell_type": "code",
   "execution_count": null,
   "metadata": {
    "id": "r-eK1UdK8kFS"
   },
   "outputs": [],
   "source": [
    "# librería\n",
    "import keyword\n",
    "\n",
    "# nombres reservados\n",
    "keyword.kwlist"
   ]
  },
  {
   "cell_type": "markdown",
   "metadata": {
    "id": "dxy7RyOS85N1"
   },
   "source": [
    "2. Los comentarios simples se realizan con #."
   ]
  },
  {
   "cell_type": "code",
   "execution_count": null,
   "metadata": {
    "id": "CqtcoX3_9DoI"
   },
   "outputs": [],
   "source": [
    "# esto es un comentario simple "
   ]
  },
  {
   "cell_type": "markdown",
   "metadata": {
    "id": "Cm61httN9Lx5"
   },
   "source": [
    "3. Los comentarios *multi-line* comienzan con ''' y terminan con '''."
   ]
  },
  {
   "cell_type": "code",
   "execution_count": null,
   "metadata": {
    "id": "50QNmb4Y9SEK"
   },
   "outputs": [],
   "source": [
    "\"\"\"\n",
    "esto \n",
    "es \n",
    "un \n",
    "comentario\n",
    "multiple\n",
    "\"\"\""
   ]
  },
  {
   "cell_type": "markdown",
   "metadata": {
    "id": "gmIaql7tRl0P"
   },
   "source": [
    "# Tipos de Datos (escalares)"
   ]
  },
  {
   "cell_type": "markdown",
   "metadata": {
    "id": "daeqyMz7Sf_k"
   },
   "source": [
    "1.  ¿Cuales son los tipos de datos en Python? ¿Cómo puedo identificarlos y convertirlos en otros tipos de datos? "
   ]
  },
  {
   "cell_type": "code",
   "execution_count": null,
   "metadata": {
    "id": "wtAe9rF9Sdag"
   },
   "outputs": [],
   "source": []
  },
  {
   "cell_type": "markdown",
   "metadata": {
    "id": "zxzYQFojdbV8"
   },
   "source": [
    "## Expresiones numéricas"
   ]
  },
  {
   "cell_type": "markdown",
   "metadata": {
    "id": "SWeuX6EmYeiR"
   },
   "source": [
    "1. ¿Qué operaciones numericas puedo aplicar?"
   ]
  },
  {
   "cell_type": "code",
   "execution_count": null,
   "metadata": {
    "id": "DDQWmNzjmXze"
   },
   "outputs": [],
   "source": []
  },
  {
   "cell_type": "markdown",
   "metadata": {
    "id": "ombcs8goaUkJ"
   },
   "source": [
    "2. Cual es el resultado de:\n",
    "$$\n",
    "1+2^3/4 \\times 5\n",
    "$$"
   ]
  },
  {
   "cell_type": "code",
   "execution_count": null,
   "metadata": {
    "id": "o931jGDSaVDa"
   },
   "outputs": [],
   "source": []
  },
  {
   "cell_type": "markdown",
   "metadata": {
    "id": "eHUwJJs4lzgU"
   },
   "source": [
    "3. Calcule el valor presente de un flujo de efectivo de $\\$1000$ por un total de 5 períodos. Asuma una tasa de descuento de $10\\%$. El valor presente (VP) es igual a:\n",
    "\n",
    "$$\n",
    "VP = \\sum^{T}_{t=0} \\frac{F_t}{(1+r)^t}\n",
    "$$\n"
   ]
  },
  {
   "cell_type": "code",
   "execution_count": null,
   "metadata": {
    "id": "K4yd5EauXmIT"
   },
   "outputs": [],
   "source": []
  },
  {
   "cell_type": "markdown",
   "metadata": {
    "id": "B3Zve8SwduQ1"
   },
   "source": [
    "## Cadenas de Texto"
   ]
  },
  {
   "cell_type": "markdown",
   "metadata": {
    "id": "YXVHnPrYjle_"
   },
   "source": [
    "1. Considerando el siguiente texto: “*Hay ciertas cosas que el dinero no puede comprar, para todo lo demás existe mastercard*”. Responda:\n",
    "\n",
    "    a. ¿Cuántos caracteres contiene el texto?\n",
    "\n",
    "    b. ¿Cuántas veces se encuentra la letra r? ¿Cuántas veces se encuentra la letra r luego de la “,”?\n",
    "\n",
    "    c. ¿En que posición está “mastercard”?\n",
    "\n",
    "    d. Reemplace “mastercard” por “Mastercard”."
   ]
  },
  {
   "cell_type": "code",
   "execution_count": null,
   "metadata": {
    "id": "tfpZrosElRvU"
   },
   "outputs": [],
   "source": []
  },
  {
   "cell_type": "markdown",
   "metadata": {
    "id": "v9Mug8OjlR-k"
   },
   "source": [
    "2. Escriba su nombre completo en minúsculas respetando los espacios.\n",
    "    \n",
    "    a. Imprima en la pantalla su nombre completo en mayúscula. (e.g GUIDO VON ROSSUM)\n",
    "    \n",
    "    b. Imprima en la pantalla su nombre completo con solo las primeras letras en mayúsculas. (e.g Guido Von Rossum)"
   ]
  },
  {
   "cell_type": "code",
   "execution_count": null,
   "metadata": {
    "id": "kFvAlAIKlWkm"
   },
   "outputs": [],
   "source": []
  },
  {
   "cell_type": "markdown",
   "metadata": {
    "id": "DGkQWSbllcDo"
   },
   "source": [
    "3. Añada el siguiente formato al texto: '2.45535 dolares equivale a $CLP1808.12'\n",
    "    \n",
    "    a. De '2.45535' a 2.45 (dos decimales)\n",
    "\n",
    "    b. 'dolares' a texto\n",
    "\n",
    "    c. De '1808.12' a 1808 (número entero)"
   ]
  },
  {
   "cell_type": "code",
   "execution_count": null,
   "metadata": {
    "id": "oTZmVi5AXbEl"
   },
   "outputs": [],
   "source": []
  },
  {
   "cell_type": "markdown",
   "metadata": {
    "id": "k-9DbaPuteBr"
   },
   "source": [
    "4. ¿Cuanto es '2' + '25'?"
   ]
  },
  {
   "cell_type": "code",
   "execution_count": null,
   "metadata": {
    "id": "5CUGHndatb2A"
   },
   "outputs": [],
   "source": []
  },
  {
   "cell_type": "markdown",
   "metadata": {
    "id": "yANM4SAfe8-U"
   },
   "source": [
    "## Lógica Booleana"
   ]
  },
  {
   "cell_type": "markdown",
   "metadata": {
    "id": "Z_03XSXotSA6"
   },
   "source": [
    "1. ¿Qué operaciones lógicas puedo aplicar?"
   ]
  },
  {
   "cell_type": "code",
   "execution_count": null,
   "metadata": {
    "id": "jP7qfVhQtkcK"
   },
   "outputs": [],
   "source": []
  },
  {
   "cell_type": "markdown",
   "metadata": {
    "id": "Vf8pjTCXtkkX"
   },
   "source": [
    "2. Considerando el siguiente texto: “*Hay ciertas cosas que el dinero no puede comprar, para todo lo demás existe mastercard*”. Responda:\n",
    "\n",
    "  a. ¿Se encuentra la letra 'z'?\n",
    "\n",
    "  b. ¿Se encuentra la letra 'm'?\n",
    "\n",
    "  c. ¿Se encuentra la palabra 'visa'?\n"
   ]
  },
  {
   "cell_type": "code",
   "execution_count": null,
   "metadata": {
    "id": "2WG1QmnmuKDc"
   },
   "outputs": [],
   "source": []
  },
  {
   "cell_type": "markdown",
   "metadata": {
    "id": "TbOQUc2W1kN5"
   },
   "source": [
    "3. Muestre que se cumple la ley de De Morgan.\n",
    "\n",
    "| A     | B     | A and B | not(A and B)      | not A or not B                  |\n",
    "|-------|-------|---------|-------------------|---------------------------------|\n",
    "| True  | False | False   | not(False) = True | not(True) or not(False) = True  |\n",
    "| False | True  | False   | not(False) = True | not(False) or not(True) = True  |\n",
    "| True  | True  | True    | not(True) = False | not(True) or not(True) = False  |\n",
    "| False | False | False   | not(False) = True | not(False) or not(False) = True |\n"
   ]
  },
  {
   "cell_type": "code",
   "execution_count": null,
   "metadata": {
    "id": "-gd-LKwG1wiI"
   },
   "outputs": [],
   "source": []
  }
 ],
 "metadata": {
  "colab": {
   "collapsed_sections": [],
   "name": "py4fin_clase_01.ipynb",
   "provenance": []
  },
  "kernelspec": {
   "display_name": "Python 3",
   "language": "python",
   "name": "python3"
  },
  "language_info": {
   "codemirror_mode": {
    "name": "ipython",
    "version": 3
   },
   "file_extension": ".py",
   "mimetype": "text/x-python",
   "name": "python",
   "nbconvert_exporter": "python",
   "pygments_lexer": "ipython3",
   "version": "3.8.5"
  }
 },
 "nbformat": 4,
 "nbformat_minor": 1
}
