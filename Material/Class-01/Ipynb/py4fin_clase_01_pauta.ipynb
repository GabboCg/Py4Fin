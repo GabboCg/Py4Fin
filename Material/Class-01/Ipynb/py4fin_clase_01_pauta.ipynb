{
 "cells": [
  {
   "cell_type": "markdown",
   "metadata": {
    "id": "Hcckbt6119D3"
   },
   "source": [
    "# <img src=\"https://escudouchile.files.wordpress.com/2012/07/logo-economia-u-de-chile.jpg\" height=\"250\" /> \n",
    "\n",
    "# Introducción a Python para las Finanzas\n",
    "\n",
    "## _&gt; Variables, Convenciones & Tipos de Datos_\n",
    "\n",
    "Gabriel E. Cabrera, M.Sc.<br>\n",
    "<span style = 'font-size: 50%;'>Universidad de Chile<br>\n",
    "Magister en Finanzas - Full Time</span>\n",
    "\n",
    "*Otoño 2021*\n",
    "\n",
    "> Bad programmers worry about the code. Good programmers worry about data structures and their relationships. \n",
    "<br> <div align=\"right\">— __Linus Torvalds__ </div>\n"
   ]
  },
  {
   "cell_type": "markdown",
   "metadata": {
    "id": "OgFU4ge06BAB"
   },
   "source": [
    "# Variables"
   ]
  },
  {
   "cell_type": "markdown",
   "metadata": {
    "id": "apiYt3XC7V7T"
   },
   "source": [
    "Una Variable en Python es un espacio en la memoria RAM de tu computadora donde puedes guardar resultados y objetos.\n",
    "Para crear una variable ocupamos una \"asignación\", es decir, una expresión con una igualdad. Lo que está a la izquierda del signo igual será el nombre de la variable donde quedará guardado el valor, y lo que está a la derecha del igual es el valor a guardar (*Aplicaciones de Manejo de Datos, 2020*).\n",
    "\n",
    "Por ejemplo, creemos la variable `ncel` y guardemos el valor `12345678`:"
   ]
  },
  {
   "cell_type": "code",
   "execution_count": 1,
   "metadata": {
    "colab": {
     "base_uri": "https://localhost:8080/"
    },
    "id": "2KGgWjyJ7sjx",
    "outputId": "a72e6d74-b3cc-4d22-92ff-49ce5e8aca38"
   },
   "outputs": [
    {
     "data": {
      "text/plain": [
       "12345678"
      ]
     },
     "execution_count": 1,
     "metadata": {
      "tags": []
     },
     "output_type": "execute_result"
    }
   ],
   "source": [
    "# = operador de asignación (no es el único)\n",
    "ncel = 12345678 # el simbolo = es el de asignación\n",
    "ncel"
   ]
  },
  {
   "cell_type": "markdown",
   "metadata": {
    "id": "Jd0QBmAL2td0"
   },
   "source": [
    "En python no es necesario terminar la linea de código con ; (semicolons), pero si cumple un rol:\n",
    "\n"
   ]
  },
  {
   "cell_type": "code",
   "execution_count": null,
   "metadata": {
    "id": "uktqFxF32t4H"
   },
   "outputs": [],
   "source": [
    "a = 1; b = 2; c = 3"
   ]
  },
  {
   "cell_type": "markdown",
   "metadata": {
    "id": "DWryUPUb2uFM"
   },
   "source": [
    "También se puede asignar valores a varias variables en una sola linea de código:"
   ]
  },
  {
   "cell_type": "code",
   "execution_count": null,
   "metadata": {
    "id": "kLCbsK0N2uOw"
   },
   "outputs": [],
   "source": [
    "a, b, c = 1, 2, 3"
   ]
  },
  {
   "cell_type": "markdown",
   "metadata": {
    "id": "EymklMnB6FN1"
   },
   "source": [
    "# Convenciones"
   ]
  },
  {
   "cell_type": "markdown",
   "metadata": {
    "id": "_BSoBKav7WhI"
   },
   "source": [
    "1. Existen nombre de variables reservadas que no se deben usar debido que están reservados por Python:"
   ]
  },
  {
   "cell_type": "code",
   "execution_count": null,
   "metadata": {
    "id": "r-eK1UdK8kFS"
   },
   "outputs": [],
   "source": [
    "# librería\n",
    "import keyword\n",
    "\n",
    "# nombres reservados\n",
    "keyword.kwlist"
   ]
  },
  {
   "cell_type": "markdown",
   "metadata": {
    "id": "dxy7RyOS85N1"
   },
   "source": [
    "2. Los comentarios simples se realizan con #."
   ]
  },
  {
   "cell_type": "code",
   "execution_count": 3,
   "metadata": {
    "id": "CqtcoX3_9DoI"
   },
   "outputs": [],
   "source": [
    "# esto es un comentario simple "
   ]
  },
  {
   "cell_type": "markdown",
   "metadata": {
    "id": "Cm61httN9Lx5"
   },
   "source": [
    "3. Los comentarios *multi-line* comienzan con ''' y terminan con '''."
   ]
  },
  {
   "cell_type": "code",
   "execution_count": null,
   "metadata": {
    "id": "50QNmb4Y9SEK"
   },
   "outputs": [],
   "source": [
    "\"\"\"\n",
    "esto \n",
    "es \n",
    "un \n",
    "comentario\n",
    "multiple\n",
    "\"\"\""
   ]
  },
  {
   "cell_type": "markdown",
   "metadata": {
    "id": "gmIaql7tRl0P"
   },
   "source": [
    "# Tipos de Datos (escalares)"
   ]
  },
  {
   "cell_type": "markdown",
   "metadata": {
    "id": "daeqyMz7Sf_k"
   },
   "source": [
    "1.  ¿Cuales son los tipos de datos en Python? ¿Cómo puedo identificarlos y convertirlos en otros tipos de datos? \n",
    "\n",
    "    Existen cuatro tipos de datos o escalares: númericos (**integers** y **floats**),   **strings** (cadenas de texto) y **booleanos** (True & False).\n"
   ]
  },
  {
   "cell_type": "code",
   "execution_count": null,
   "metadata": {
    "id": "wtAe9rF9Sdag"
   },
   "outputs": [],
   "source": [
    "'''Tipos básicos de datos'''\n",
    "# integers\n",
    "integer = 2 \n",
    "type(integer) # identificación\n",
    "isinstance(integer, int)  # identificación \n",
    "\n",
    "# float\n",
    "floating = 3.14\n",
    "type(floating)\n",
    "isinstance(floating, float)\n",
    "\n",
    "# string\n",
    "string = \"hola mundo\"\n",
    "type(string)\n",
    "isinstance(string, str)\n",
    "\n",
    "# boolean\n",
    "boolean = True\n",
    "type(boolean)\n",
    "isinstance(boolean, bool)\n",
    "\n",
    "'''casting'''\n",
    "# integers\n",
    "int('1')\n",
    "int(True)\n",
    "int(False)\n",
    "\n",
    "# float\n",
    "float('1')\n",
    "float(True)\n",
    "float(False)\n",
    "\n",
    "# string\n",
    "str(1)\n",
    "str(True)\n",
    "str(False)\n",
    "\n",
    "# boolean\n",
    "bool(1)\n",
    "bool(0)"
   ]
  },
  {
   "cell_type": "markdown",
   "metadata": {
    "id": "zxzYQFojdbV8"
   },
   "source": [
    "## Expresiones numéricas"
   ]
  },
  {
   "cell_type": "markdown",
   "metadata": {
    "id": "SWeuX6EmYeiR"
   },
   "source": [
    "1. ¿Qué operaciones numéricas puedo aplicar?"
   ]
  },
  {
   "cell_type": "code",
   "execution_count": null,
   "metadata": {
    "id": "DDQWmNzjmXze"
   },
   "outputs": [],
   "source": [
    "a = 4\n",
    "b = 3\n",
    "\n",
    "# suma\n",
    "a + b\n",
    "\n",
    "# resta\n",
    "a - b\n",
    "\n",
    "# multiplicación\n",
    "a * b\n",
    "\n",
    "# división\n",
    "a / b\n",
    "\n",
    "# modulo\n",
    "a % b\n",
    "\n",
    "# parte entera\n",
    "a // b\n",
    "\n",
    "# potencia\n",
    "a ** b"
   ]
  },
  {
   "cell_type": "markdown",
   "metadata": {
    "id": "ombcs8goaUkJ"
   },
   "source": [
    "2. Cual es el resultado de:\n",
    "$$\n",
    "1+2^3/4 \\times 5\n",
    "$$"
   ]
  },
  {
   "cell_type": "code",
   "execution_count": null,
   "metadata": {
    "id": "o931jGDSaVDa"
   },
   "outputs": [],
   "source": [
    "1 + 2 ** 3 / 4 * 5"
   ]
  },
  {
   "cell_type": "markdown",
   "metadata": {
    "id": "eHUwJJs4lzgU"
   },
   "source": [
    "3. Calcule el valor presente de un flujo de efectivo de $\\$1000$ por un total de 5 períodos. Asuma una tasa de descuento de $10\\%$. El valor presente (VP) es igual a:\n",
    "\n",
    "$$\n",
    "VP = \\sum^{T}_{t=0} \\frac{F_t}{(1+r)^t}\n",
    "$$\n"
   ]
  },
  {
   "cell_type": "code",
   "execution_count": null,
   "metadata": {
    "id": "K4yd5EauXmIT"
   },
   "outputs": [],
   "source": [
    "valor_presente = 1000 / (1 + 0.1) ** 1 +  1000 / (1 + 0.1) ** 2 + 1000 / (1 + 0.1) ** 3 + 1000 / (1 + 0.1) ** 4 + 1000 / (1 + 0.1) ** 5\n",
    "print('El valor presente es: ' + str(valor_presente))"
   ]
  },
  {
   "cell_type": "markdown",
   "metadata": {
    "id": "B3Zve8SwduQ1"
   },
   "source": [
    "## Cadenas de Texto"
   ]
  },
  {
   "cell_type": "markdown",
   "metadata": {
    "id": "YXVHnPrYjle_"
   },
   "source": [
    "1. Considerando el siguiente texto: “*Hay ciertas cosas que el dinero no puede comprar, para todo lo demás existe mastercard*”. Responda:\n",
    "\n",
    "    a. ¿Cuántos caracteres tiene el texto?\n",
    "\n",
    "    b. ¿Cuántas veces se encuentra la letra r? ¿Cuántas veces se encuentra la letra r luego de la “,”?\n",
    "\n",
    "    c. ¿En que posición está “mastercard”?\n",
    "\n",
    "    d. Reemplace “mastercard” por “Mastercard”."
   ]
  },
  {
   "cell_type": "code",
   "execution_count": null,
   "metadata": {
    "id": "tfpZrosElRvU"
   },
   "outputs": [],
   "source": [
    "'''1. a'''\n",
    "texto = 'Hay ciertas cosas que el dinero no puede comprar, para todo lo demás existe mastercard'\n",
    "len(texto)\n",
    "\n",
    "# primer caracter\n",
    "texto[0]\n",
    "# primeros 5 caracteres\n",
    "texto[0:5]\n",
    "# último caracter\n",
    "texto[-1]\n",
    "\n",
    "'''1.b'''\n",
    "texto.count('r')\n",
    "texto.count('r', texto.find(','))\n",
    "\n",
    "'''1.c'''\n",
    "texto.find('mastercard')\n",
    "\n",
    "'''1.d'''\n",
    "texto.replace('mastercard', 'Mastercard')\n"
   ]
  },
  {
   "cell_type": "markdown",
   "metadata": {
    "id": "v9Mug8OjlR-k"
   },
   "source": [
    "2. Escriba su nombre completo en minúsculas respetando los espacios.\n",
    "    \n",
    "    a. Imprima en la pantalla su nombre completo en mayúscula. (e.g GUIDO VON ROSSUM)\n",
    "    \n",
    "    b. Imprima en la pantalla su nombre completo con solo las primeras letras en mayúsculas. (e.g Guido Von Rossum)"
   ]
  },
  {
   "cell_type": "code",
   "execution_count": null,
   "metadata": {
    "id": "kFvAlAIKlWkm"
   },
   "outputs": [],
   "source": [
    "'''2.a'''\n",
    "lower_name = \"guido von rossum\"\n",
    "lower_name.upper()\n",
    "\n",
    "'''2.b'''\n",
    "lower_name.title()"
   ]
  },
  {
   "cell_type": "markdown",
   "metadata": {
    "id": "DGkQWSbllcDo"
   },
   "source": [
    "3. Añada el siguiente formato al texto: '2.45535 dolares equivale a $CLP1808.12'\n",
    "    \n",
    "    a. De '2.45535' a 2.45 (dos decimales)\n",
    "\n",
    "    b. 'dolares' a texto\n",
    "\n",
    "    c. De '1808.12' a 1808 (número entero)"
   ]
  },
  {
   "cell_type": "code",
   "execution_count": 11,
   "metadata": {
    "colab": {
     "base_uri": "https://localhost:8080/",
     "height": 35
    },
    "id": "oTZmVi5AXbEl",
    "outputId": "4bf904e0-c5b8-4be7-b2c6-69bf73ffece4"
   },
   "outputs": [
    {
     "data": {
      "application/vnd.google.colaboratory.intrinsic+json": {
       "type": "string"
      },
      "text/plain": [
       "'2.46 dolares equivale a $CLP1808'"
      ]
     },
     "execution_count": 11,
     "metadata": {
      "tags": []
     },
     "output_type": "execute_result"
    }
   ],
   "source": [
    "# https://docs.python.org/3/library/stdtypes.html#printf-style-string-formatting\n",
    "template = '{0:.2f} {1:s} equivale a $CLP{2:d}'\n",
    "template.format(2.45535, 'dolares', 1808)"
   ]
  },
  {
   "cell_type": "markdown",
   "metadata": {
    "id": "k-9DbaPuteBr"
   },
   "source": [
    "4. ¿Cuanto es '2' + '25'?"
   ]
  },
  {
   "cell_type": "code",
   "execution_count": 12,
   "metadata": {
    "colab": {
     "base_uri": "https://localhost:8080/",
     "height": 35
    },
    "id": "5CUGHndatb2A",
    "outputId": "07700c2a-0043-484f-8b73-81a7c973dd8d"
   },
   "outputs": [
    {
     "data": {
      "application/vnd.google.colaboratory.intrinsic+json": {
       "type": "string"
      },
      "text/plain": [
       "'225'"
      ]
     },
     "execution_count": 12,
     "metadata": {
      "tags": []
     },
     "output_type": "execute_result"
    }
   ],
   "source": [
    "# concatenación, deben ser str()\n",
    "'2' + '25'"
   ]
  },
  {
   "cell_type": "markdown",
   "metadata": {
    "id": "yANM4SAfe8-U"
   },
   "source": [
    "## Lógica Booleana"
   ]
  },
  {
   "cell_type": "markdown",
   "metadata": {
    "id": "Z_03XSXotSA6"
   },
   "source": [
    "1. ¿Qué operaciones lógicas puedo aplicar?"
   ]
  },
  {
   "cell_type": "code",
   "execution_count": 13,
   "metadata": {
    "colab": {
     "base_uri": "https://localhost:8080/"
    },
    "id": "jP7qfVhQtkcK",
    "outputId": "40724a03-0c6a-4286-813b-283b7652b6da"
   },
   "outputs": [
    {
     "data": {
      "text/plain": [
       "False"
      ]
     },
     "execution_count": 13,
     "metadata": {
      "tags": []
     },
     "output_type": "execute_result"
    }
   ],
   "source": [
    "a = 4\n",
    "b = 3\n",
    "\n",
    "'''operadores de comparación'''\n",
    "# mayor que \n",
    "a > b\n",
    "\n",
    "# menor que\n",
    "a < b\n",
    "\n",
    "# igual a\n",
    "a == b\n",
    "\n",
    "# distinto a\n",
    "a != b\n",
    "\n",
    "# mayor o igual a\n",
    "a >= b\n",
    "\n",
    "# menor o igual a\n",
    "a <= b\n",
    "\n",
    "''' operadores lógicos'''\n",
    "x = True\n",
    "y = False\n",
    "\n",
    "# True y False = False\n",
    "x and y\n",
    "\n",
    "# True o False = True\n",
    "x or y \n",
    "\n",
    "# no True = False\n",
    "not x "
   ]
  },
  {
   "cell_type": "markdown",
   "metadata": {
    "id": "Vf8pjTCXtkkX"
   },
   "source": [
    "2. Considerando el siguiente texto: “*Hay ciertas cosas que el dinero no puede comprar, para todo lo demás existe mastercard*”. Responda:\n",
    "\n",
    "  a. ¿Se encuentra la letra 'z'?\n",
    "\n",
    "  b. ¿Se encuentra la letra 'm'?\n",
    "\n",
    "  c. ¿Se encuentra la palabra 'visa'?\n"
   ]
  },
  {
   "cell_type": "code",
   "execution_count": 14,
   "metadata": {
    "colab": {
     "base_uri": "https://localhost:8080/"
    },
    "id": "2WG1QmnmuKDc",
    "outputId": "0de27470-1366-4858-fd7c-4cfbb98f29e8"
   },
   "outputs": [
    {
     "data": {
      "text/plain": [
       "False"
      ]
     },
     "execution_count": 14,
     "metadata": {
      "tags": []
     },
     "output_type": "execute_result"
    }
   ],
   "source": [
    "texto = 'Hay ciertas cosas que el dinero no puede comprar, para todo lo demás existe mastercard'\n",
    "\n",
    "# operador afiliación (membership)\n",
    "'''2.a'''\n",
    "'z' in texto\n",
    "\n",
    "'''2.b'''\n",
    "'m' in texto\n",
    "\n",
    "'''2.c'''\n",
    "'visa' in texto"
   ]
  },
  {
   "cell_type": "markdown",
   "metadata": {
    "id": "TbOQUc2W1kN5"
   },
   "source": [
    "3. Muestre que se cumple la ley de De Morgan.\n",
    "\n",
    "| A     | B     | A and B | not(A and B)      | not A or not B                  |\n",
    "|-------|-------|---------|-------------------|---------------------------------|\n",
    "| True  | False | False   | not(False) = True | not(True) or not(False) = True  |\n",
    "| False | True  | False   | not(False) = True | not(False) or not(True) = True  |\n",
    "| True  | True  | True    | not(True) = False | not(True) or not(True) = False  |\n",
    "| False | False | False   | not(False) = True | not(False) or not(False) = True |"
   ]
  },
  {
   "cell_type": "code",
   "execution_count": 15,
   "metadata": {
    "colab": {
     "base_uri": "https://localhost:8080/"
    },
    "id": "kgKRxE9fkgWL",
    "outputId": "6e8229f2-67cf-4735-8ad4-44dfc760e2b8"
   },
   "outputs": [
    {
     "data": {
      "text/plain": [
       "True"
      ]
     },
     "execution_count": 15,
     "metadata": {
      "tags": []
     },
     "output_type": "execute_result"
    }
   ],
   "source": [
    "A = True\n",
    "B = False\n",
    "\n",
    "not(A and B) == (not(A) or not(B))"
   ]
  },
  {
   "cell_type": "code",
   "execution_count": 16,
   "metadata": {
    "colab": {
     "base_uri": "https://localhost:8080/"
    },
    "id": "H7P1GFnPqsy8",
    "outputId": "d0831173-83a6-4774-b03e-c82dcf967350"
   },
   "outputs": [
    {
     "data": {
      "text/plain": [
       "True"
      ]
     },
     "execution_count": 16,
     "metadata": {
      "tags": []
     },
     "output_type": "execute_result"
    }
   ],
   "source": [
    "A = False\n",
    "B = True\n",
    "\n",
    "not(A and B) == (not(A) or not(B))"
   ]
  },
  {
   "cell_type": "code",
   "execution_count": 17,
   "metadata": {
    "colab": {
     "base_uri": "https://localhost:8080/"
    },
    "id": "sHv7xchhq-c0",
    "outputId": "af6d6278-813a-49d6-d285-6648d8a0ba3a"
   },
   "outputs": [
    {
     "data": {
      "text/plain": [
       "True"
      ]
     },
     "execution_count": 17,
     "metadata": {
      "tags": []
     },
     "output_type": "execute_result"
    }
   ],
   "source": [
    "A = True\n",
    "B = True\n",
    "\n",
    "not(A and B) == (not(A) or not(B))"
   ]
  },
  {
   "cell_type": "code",
   "execution_count": 18,
   "metadata": {
    "colab": {
     "base_uri": "https://localhost:8080/"
    },
    "id": "9RcCNfQyrNay",
    "outputId": "9165d783-d0ba-45cf-eba8-f8e03efa17d3"
   },
   "outputs": [
    {
     "data": {
      "text/plain": [
       "True"
      ]
     },
     "execution_count": 18,
     "metadata": {
      "tags": []
     },
     "output_type": "execute_result"
    }
   ],
   "source": [
    "A = False\n",
    "B = False\n",
    "\n",
    "not(A and B) == (not(A) or not(B))"
   ]
  }
 ],
 "metadata": {
  "colab": {
   "collapsed_sections": [],
   "name": "py4fin_clase_01_solution.ipynb",
   "provenance": []
  },
  "kernelspec": {
   "display_name": "Python 3",
   "language": "python",
   "name": "python3"
  },
  "language_info": {
   "codemirror_mode": {
    "name": "ipython",
    "version": 3
   },
   "file_extension": ".py",
   "mimetype": "text/x-python",
   "name": "python",
   "nbconvert_exporter": "python",
   "pygments_lexer": "ipython3",
   "version": "3.8.5"
  }
 },
 "nbformat": 4,
 "nbformat_minor": 1
}
