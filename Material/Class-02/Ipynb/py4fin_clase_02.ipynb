{
  "nbformat": 4,
  "nbformat_minor": 0,
  "metadata": {
    "colab": {
      "name": "py4fin_clase_02.ipynb",
      "provenance": [],
      "collapsed_sections": []
    },
    "kernelspec": {
      "name": "python3",
      "display_name": "Python 3"
    }
  },
  "cells": [
    {
      "cell_type": "markdown",
      "metadata": {
        "id": "Hcckbt6119D3"
      },
      "source": [
        "# <img src=\"https://escudouchile.files.wordpress.com/2012/07/logo-economia-u-de-chile.jpg\" height=\"250\" /> \n",
        "\n",
        "# Introducción a Python para las Finanzas\n",
        "\n",
        "## _&gt; Secuencias & Estructuras de Datos_\n",
        "\n",
        "Gabriel E. Cabrera, M.Sc.<br>\n",
        "<span style = 'font-size: 50%;'>Universidad de Chile<br>\n",
        "Magister en Finanzas - Full Time</span>\n",
        "\n",
        "*Otoño 2021*\n",
        "\n",
        "> Computers are useless. They can only give answers. \n",
        "<br> <div align=\"right\">— __Pablo Picasso__ </div>\n",
        "\n"
      ]
    },
    {
      "cell_type": "markdown",
      "metadata": {
        "id": "FCXR8oI8zeIQ"
      },
      "source": [
        "# Estructuras de Datos Básicas\n",
        "\n",
        "Como regla general, las estructuras de datos son objetos que contiene otros objetos (e.g escalares) como secuencias. En Python se tiene las siguientes estructuras de datos *built-in*:\n",
        "\n",
        "| Estructura           | Ejemplo                  | Brackets | índice | Elementos Repetidos | Mutable | Operaciones de Conjuntos |\n",
        "|:---------------------|:------------------------|:--------:|:------:|:-------------------:|:-------:|:------------------------:|\n",
        "| Lista (`list`)       | A = [1,2,'hola','mundo'] | [ ]      | Sí     | Sí                  | Sí      | No                       |\n",
        "| Tupla (`tuple`)      | B = (3,3,3,5)            | ()       | Sí     | Sí                  | No      | No                       |\n",
        "| Diccionario (`dict`) | D = {'Año':2001,'Mes':3} | {}       | Sí     | Sí                  | Sí      | No                       |\n",
        "| Conjunto (`set`)     | C = {6,7,8}              | {}       | No     | No                  | No      | Sí                       |"
      ]
    },
    {
      "cell_type": "markdown",
      "metadata": {
        "id": "my4wFLPpoik9"
      },
      "source": [
        "## Lista (`list`)"
      ]
    },
    {
      "cell_type": "markdown",
      "metadata": {
        "id": "Ntok96Sg4Ipc"
      },
      "source": [
        "1. Construya una lista que contenga el nombre de las siguientes empresas tecnológicas: 'Facebook', 'Apple', 'Amazon' y 'Netflix'.\n",
        "\n",
        "    a. Muestre el primer y último elemento de la lista creada.\n",
        "\n",
        "    b. Muestre el primer y último elemento de la lista creada usando índices negativos.\n",
        "\n",
        "    c. Agregue \"Nvidia\" al ínicio de la lista. ¿Como lo agrego en la cuarta posición?\n",
        "\n",
        "    d. Agregue \"Google\" al final de la lista.\n",
        "\n",
        "    e. ¿Cuantos elementos tiene la lista hasta ahora?\n",
        "\n",
        "    f. En que posición se ubica la empresa 'Apple'.\n",
        "\n",
        "    g. Elimine \"Nvidia\" y \"Netflix\" de la lista.\n",
        "    \n",
        "    h. Ordene de mayor a menor la lista según el número de caracteres de cada elemento en la lista."
      ]
    },
    {
      "cell_type": "code",
      "metadata": {
        "id": "E4PjQtqsonEQ"
      },
      "source": [
        ""
      ],
      "execution_count": null,
      "outputs": []
    },
    {
      "cell_type": "markdown",
      "metadata": {
        "id": "gKv_WXKJ44Lm"
      },
      "source": [
        "2. Construya las siguientes listas:\n",
        "\n",
        "    * parte_a = `[[0, 'a'], [1, 'b']]`\n",
        "\n",
        "    * parte_b = `[[2, 'c'], [3, 'd']]`\n",
        "\n",
        "    a. Concatene o combine ambas listas. ¿En que se diferencia concatenar con `+` y `extend`?\n",
        "\n",
        "    b. Muestre el segundo elemento de la lista generada en (a). "
      ]
    },
    {
      "cell_type": "code",
      "metadata": {
        "id": "I_ea3LAC4-DL"
      },
      "source": [
        ""
      ],
      "execution_count": null,
      "outputs": []
    },
    {
      "cell_type": "markdown",
      "metadata": {
        "id": "Aze2lNo9Z5D2"
      },
      "source": [
        "3. Genere lista que contenga desde el 1 hasta el 10.\n",
        "\n",
        "    a. Ordene la lista de mayor a menor. ¿En que se diferencia ordenar con `sort` y `sorted`?\n",
        "\n",
        "    b. Seleccione los valores cuyo índice sea par.\n",
        "\n"
      ]
    },
    {
      "cell_type": "code",
      "metadata": {
        "id": "d0GemX4BkCKW"
      },
      "source": [
        ""
      ],
      "execution_count": null,
      "outputs": []
    },
    {
      "cell_type": "markdown",
      "metadata": {
        "id": "k8qGJBcEvPnh"
      },
      "source": [
        "## Tupla (`tuple`)"
      ]
    },
    {
      "cell_type": "markdown",
      "metadata": {
        "id": "1tbADN_NwZBO"
      },
      "source": [
        "Se creará una tupla (`tuple`) si se utiliza coma (,) para separar valores cuando se asigna a una única variable:"
      ]
    },
    {
      "cell_type": "code",
      "metadata": {
        "colab": {
          "base_uri": "https://localhost:8080/"
        },
        "id": "UzoRxRVzvPvP",
        "outputId": "8752a9f8-ee23-4abf-a9c1-3256b16800c9"
      },
      "source": [
        "tupla = 1, 2, 'Facebook', 'Amazon'\n",
        "tupla"
      ],
      "execution_count": null,
      "outputs": [
        {
          "output_type": "execute_result",
          "data": {
            "text/plain": [
              "(1, 2, 'Facebook', 'Amazon')"
            ]
          },
          "metadata": {
            "tags": []
          },
          "execution_count": 1
        }
      ]
    },
    {
      "cell_type": "markdown",
      "metadata": {
        "id": "8TjbyoHvzMZC"
      },
      "source": [
        "Al igual que la listas, se pueden crear tuplas (`tuple`) anidadas:"
      ]
    },
    {
      "cell_type": "code",
      "metadata": {
        "colab": {
          "base_uri": "https://localhost:8080/"
        },
        "id": "jUTIxrRPzM8-",
        "outputId": "2535b027-01db-4082-a047-f3f33b16cd92"
      },
      "source": [
        "tupla_anidada1 = (1,2), ('Facebook', 'Amazon')\n",
        "tupla_anidada1"
      ],
      "execution_count": null,
      "outputs": [
        {
          "output_type": "execute_result",
          "data": {
            "text/plain": [
              "((1, 2), ('reuters', 'bloomberg'))"
            ]
          },
          "metadata": {
            "tags": []
          },
          "execution_count": 65
        }
      ]
    },
    {
      "cell_type": "markdown",
      "metadata": {
        "id": "7HbDmxk4JL8U"
      },
      "source": [
        "Que incluso pueden almacenar listas (`list`):"
      ]
    },
    {
      "cell_type": "code",
      "metadata": {
        "colab": {
          "base_uri": "https://localhost:8080/"
        },
        "id": "zXIHLqUmzTrA",
        "outputId": "44831bd0-87ca-421b-cf26-b06434c85c5d"
      },
      "source": [
        "tupla_anidada2 = (1,2), ('Facebook', 'Amazon'), ['Apple', 'Netflix']\n",
        "tupla_anidada2 "
      ],
      "execution_count": null,
      "outputs": [
        {
          "output_type": "execute_result",
          "data": {
            "text/plain": [
              "((1, 2), ('reuters', 'bloomberg'), ['Amazon', 'Apple'])"
            ]
          },
          "metadata": {
            "tags": []
          },
          "execution_count": 70
        }
      ]
    },
    {
      "cell_type": "markdown",
      "metadata": {
        "id": "b6TlD9JuJX9X"
      },
      "source": [
        "Solo se puede modificar un elemento de la tupla (`tuple`) que permita modificación, por ejemplo la lista (`list`):"
      ]
    },
    {
      "cell_type": "code",
      "metadata": {
        "colab": {
          "base_uri": "https://localhost:8080/"
        },
        "id": "wjI5OtSW0P6j",
        "outputId": "2c331cdc-11db-4f23-ce81-10ca287d74b4"
      },
      "source": [
        "tupla_anidada2[2].append('Google')\n",
        "tupla_anidada2"
      ],
      "execution_count": null,
      "outputs": [
        {
          "output_type": "execute_result",
          "data": {
            "text/plain": [
              "((1, 2), ('reuters', 'bloomberg'), ['Amazon', 'Apple', 'Facebook'])"
            ]
          },
          "metadata": {
            "tags": []
          },
          "execution_count": 71
        }
      ]
    },
    {
      "cell_type": "markdown",
      "metadata": {
        "id": "etVs5KuPJ37T"
      },
      "source": [
        "Permite concatenación mediante el signo `+`:"
      ]
    },
    {
      "cell_type": "code",
      "metadata": {
        "colab": {
          "base_uri": "https://localhost:8080/"
        },
        "id": "mIEmUK4M1Kmu",
        "outputId": "5fb0cc54-184f-4e38-ef5d-851bc27dbcdb"
      },
      "source": [
        "('Facebook', 'Amazon') + ('Apple', 'Netflix') "
      ],
      "execution_count": null,
      "outputs": [
        {
          "output_type": "execute_result",
          "data": {
            "text/plain": [
              "('Facebook', 'Amazon', 'Apple', 'Netflix')"
            ]
          },
          "metadata": {
            "tags": []
          },
          "execution_count": 73
        }
      ]
    },
    {
      "cell_type": "markdown",
      "metadata": {
        "id": "-S7GvvyhJ7y1"
      },
      "source": [
        "E incluso multiplicación de elementos usando `*`:"
      ]
    },
    {
      "cell_type": "code",
      "metadata": {
        "colab": {
          "base_uri": "https://localhost:8080/"
        },
        "id": "SBMPT6SH1ilG",
        "outputId": "7259d97b-566b-4281-a6db-92a8b118d399"
      },
      "source": [
        "('Facebook', 'Amazon') * 3"
      ],
      "execution_count": null,
      "outputs": [
        {
          "output_type": "execute_result",
          "data": {
            "text/plain": [
              "('Facebook', 'Amazon', 'Facebook', 'Amazon', 'Facebook', 'Amazon')"
            ]
          },
          "metadata": {
            "tags": []
          },
          "execution_count": 75
        }
      ]
    },
    {
      "cell_type": "markdown",
      "metadata": {
        "id": "Wtw8YVUfKAqF"
      },
      "source": [
        "Para forzar una lista (`list`) a que sea tupla (`tuple`) basta con:"
      ]
    },
    {
      "cell_type": "code",
      "metadata": {
        "colab": {
          "base_uri": "https://localhost:8080/"
        },
        "id": "-kDr2KRK1mDH",
        "outputId": "5b9be6fe-aec8-4d9a-f72d-c921a1d749c3"
      },
      "source": [
        "tuple([1, 2, 3, 4])"
      ],
      "execution_count": null,
      "outputs": [
        {
          "output_type": "execute_result",
          "data": {
            "text/plain": [
              "(1, 2, 3, 4)"
            ]
          },
          "metadata": {
            "tags": []
          },
          "execution_count": 77
        }
      ]
    },
    {
      "cell_type": "markdown",
      "metadata": {
        "id": "0zYV8kUfoqBr"
      },
      "source": [
        "## Diccionario (`dict`)"
      ]
    },
    {
      "cell_type": "markdown",
      "metadata": {
        "id": "T_88f8B7Kzrg"
      },
      "source": [
        "Los diccionarios (`dict`) son estructuras de datos mutables, se caracterizan con el uso de llave-valor (*key-value*)."
      ]
    },
    {
      "cell_type": "code",
      "metadata": {
        "id": "NgOh5JFRpCsq",
        "colab": {
          "base_uri": "https://localhost:8080/"
        },
        "outputId": "fb073ef9-8227-4342-ad02-d3589132e7d7"
      },
      "source": [
        "dict1 = {'Name' : 'Janet Yellen', \n",
        "         'Country' : 'United States',\n",
        "         'Profession' : ' United States secretary of the treasury',\n",
        "         'Age' : 74}\n",
        "        \n",
        "type(dict1)"
      ],
      "execution_count": null,
      "outputs": [
        {
          "output_type": "execute_result",
          "data": {
            "text/plain": [
              "dict"
            ]
          },
          "metadata": {
            "tags": []
          },
          "execution_count": 10
        }
      ]
    },
    {
      "cell_type": "markdown",
      "metadata": {
        "id": "UfpJY6XDLD3W"
      },
      "source": [
        "Para acceder a los valores asociado a la llave, basta con usar `[ ]` y escribir la el nombre de la llave:"
      ]
    },
    {
      "cell_type": "code",
      "metadata": {
        "colab": {
          "base_uri": "https://localhost:8080/"
        },
        "id": "91OdjqUa4J09",
        "outputId": "09eca0fe-b7d4-4c79-d0f1-9c7d3e16ea26"
      },
      "source": [
        "print(dict1['Name'], dict1['Age']) "
      ],
      "execution_count": null,
      "outputs": [
        {
          "output_type": "stream",
          "text": [
            "Janet 74\n"
          ],
          "name": "stdout"
        }
      ]
    },
    {
      "cell_type": "markdown",
      "metadata": {
        "id": "6mLF7xH-Ljb7"
      },
      "source": [
        "Hereda los métodos `.keys()` para accader al nombre de las llaves:"
      ]
    },
    {
      "cell_type": "code",
      "metadata": {
        "colab": {
          "base_uri": "https://localhost:8080/"
        },
        "id": "_WVwF-Np4P9C",
        "outputId": "d714ed04-9176-405c-ae6d-e65699df2c18"
      },
      "source": [
        "dict1.keys() # keys (llaves)"
      ],
      "execution_count": null,
      "outputs": [
        {
          "output_type": "execute_result",
          "data": {
            "text/plain": [
              "dict_keys(['Name', 'Country', 'Profession', 'Age'])"
            ]
          },
          "metadata": {
            "tags": []
          },
          "execution_count": 3
        }
      ]
    },
    {
      "cell_type": "markdown",
      "metadata": {
        "id": "-ewOR8tOLrGv"
      },
      "source": [
        "Hereda los métodos `.values()` para accader a los valores asociados a las llaves:"
      ]
    },
    {
      "cell_type": "code",
      "metadata": {
        "colab": {
          "base_uri": "https://localhost:8080/"
        },
        "id": "10cQabzF4Se9",
        "outputId": "22c6255b-e9ab-43c9-e80b-be8c622dbeb1"
      },
      "source": [
        "dict1.values() # valores "
      ],
      "execution_count": null,
      "outputs": [
        {
          "output_type": "execute_result",
          "data": {
            "text/plain": [
              "dict_values(['Janet Yellen', 'United States', ' United States secretary of the treasury', 74])"
            ]
          },
          "metadata": {
            "tags": []
          },
          "execution_count": 4
        }
      ]
    },
    {
      "cell_type": "markdown",
      "metadata": {
        "id": "KCD0WtryLwNr"
      },
      "source": [
        "Mediante `.items()` se accede a la llave (*key*) y los valores (*values*):"
      ]
    },
    {
      "cell_type": "code",
      "metadata": {
        "colab": {
          "base_uri": "https://localhost:8080/"
        },
        "id": "zcUaRg8_4VuR",
        "outputId": "295d997e-51be-488f-ec61-06fc8d7ce817"
      },
      "source": [
        "dict1.items()  # items = keys + values"
      ],
      "execution_count": null,
      "outputs": [
        {
          "output_type": "execute_result",
          "data": {
            "text/plain": [
              "dict_items([('Name', 'Janet'), ('Country', 'United States'), ('Profession', ' United States secretary of the treasury'), ('Age', 74)])"
            ]
          },
          "metadata": {
            "tags": []
          },
          "execution_count": 16
        }
      ]
    },
    {
      "cell_type": "markdown",
      "metadata": {
        "id": "oxQ_WL7_pC0U"
      },
      "source": [
        "## Conjunto (`set`)\n"
      ]
    },
    {
      "cell_type": "markdown",
      "metadata": {
        "id": "QnTSQY9vMOy1"
      },
      "source": [
        "La estructura de datos de conjunto (`set`) permite solo valores únicos. Para crear un conjunto (`set`), se crea una lista y luego `set()`: "
      ]
    },
    {
      "cell_type": "code",
      "metadata": {
        "id": "MH5uAoVHr8ia",
        "colab": {
          "base_uri": "https://localhost:8080/"
        },
        "outputId": "6c34ec81-4ff3-4c1e-f2e1-ddb5cc7db5cd"
      },
      "source": [
        "set1 = set([1, 2, 3, 4, 5, 5])\n",
        "set1"
      ],
      "execution_count": null,
      "outputs": [
        {
          "output_type": "execute_result",
          "data": {
            "text/plain": [
              "{1, 2, 3, 4, 5}"
            ]
          },
          "metadata": {
            "tags": []
          },
          "execution_count": 97
        }
      ]
    },
    {
      "cell_type": "code",
      "metadata": {
        "colab": {
          "base_uri": "https://localhost:8080/"
        },
        "id": "llT1WilC62HY",
        "outputId": "bf227189-700b-4f79-c75c-a7545e60a020"
      },
      "source": [
        "set2 = set([3, 4, 5, 6, 9, 9, 7])\n",
        "set2"
      ],
      "execution_count": null,
      "outputs": [
        {
          "output_type": "execute_result",
          "data": {
            "text/plain": [
              "{3, 4, 5, 6, 7, 9}"
            ]
          },
          "metadata": {
            "tags": []
          },
          "execution_count": 99
        }
      ]
    },
    {
      "cell_type": "markdown",
      "metadata": {
        "id": "qYqOzmPWMnxN"
      },
      "source": [
        "Podemos aplicar operaciones de conjuntos:"
      ]
    },
    {
      "cell_type": "markdown",
      "metadata": {
        "id": "lL0Q9Pt2M6l0"
      },
      "source": [
        "* Todo los items que están en `set1` y `set2`:"
      ]
    },
    {
      "cell_type": "code",
      "metadata": {
        "colab": {
          "base_uri": "https://localhost:8080/"
        },
        "id": "ggi0jYxz5zQA",
        "outputId": "09389fa4-8baf-47c9-a1b0-fe7d67cbe0e5"
      },
      "source": [
        "# union\n",
        "set1.union(set2)"
      ],
      "execution_count": null,
      "outputs": [
        {
          "output_type": "execute_result",
          "data": {
            "text/plain": [
              "{1, 2, 3, 4, 5, 6, 7, 9}"
            ]
          },
          "metadata": {
            "tags": []
          },
          "execution_count": 89
        }
      ]
    },
    {
      "cell_type": "markdown",
      "metadata": {
        "id": "v8xhBKlINDJg"
      },
      "source": [
        "* Items que estén en `set1` y `set2`:"
      ]
    },
    {
      "cell_type": "code",
      "metadata": {
        "colab": {
          "base_uri": "https://localhost:8080/"
        },
        "id": "kmt5Xp7d51ZJ",
        "outputId": "5b2a4558-de0c-471f-bbed-28f4832e3596"
      },
      "source": [
        "# intersección\n",
        "set1.intersection(set2)"
      ],
      "execution_count": null,
      "outputs": [
        {
          "output_type": "execute_result",
          "data": {
            "text/plain": [
              "{3, 4, 5}"
            ]
          },
          "metadata": {
            "tags": []
          },
          "execution_count": 90
        }
      ]
    },
    {
      "cell_type": "markdown",
      "metadata": {
        "id": "T1_jbuc6Ntr5"
      },
      "source": [
        "* Items que estén en `set1` pero no en `set2`:"
      ]
    },
    {
      "cell_type": "code",
      "metadata": {
        "colab": {
          "base_uri": "https://localhost:8080/"
        },
        "id": "p0kKDx6u59-W",
        "outputId": "7469ed74-3067-4087-d8c1-4e3b5557ec73"
      },
      "source": [
        "set1.difference(set2)"
      ],
      "execution_count": null,
      "outputs": [
        {
          "output_type": "execute_result",
          "data": {
            "text/plain": [
              "{1, 2}"
            ]
          },
          "metadata": {
            "tags": []
          },
          "execution_count": 91
        }
      ]
    },
    {
      "cell_type": "markdown",
      "metadata": {
        "id": "G1ZKSP-DN0sh"
      },
      "source": [
        "* Items que estén en `set2` pero no en `set1`:"
      ]
    },
    {
      "cell_type": "code",
      "metadata": {
        "colab": {
          "base_uri": "https://localhost:8080/"
        },
        "id": "koR4SlGR6BA1",
        "outputId": "1b90e83f-6730-4344-82d3-38394a5bf9bd"
      },
      "source": [
        "set2.difference(set1)"
      ],
      "execution_count": null,
      "outputs": [
        {
          "output_type": "execute_result",
          "data": {
            "text/plain": [
              "{6, 7, 9}"
            ]
          },
          "metadata": {
            "tags": []
          },
          "execution_count": 92
        }
      ]
    },
    {
      "cell_type": "markdown",
      "metadata": {
        "id": "MQLL23bSN9__"
      },
      "source": [
        "* Items que estén en `set1` o `set2` pero no en ambos:\n",
        "\n",
        "\n"
      ]
    },
    {
      "cell_type": "code",
      "metadata": {
        "colab": {
          "base_uri": "https://localhost:8080/"
        },
        "id": "Q2ZhW9KV6GB_",
        "outputId": "cadbae05-b69e-471a-ed4b-b14fafb90767"
      },
      "source": [
        "set1.symmetric_difference(set2) "
      ],
      "execution_count": null,
      "outputs": [
        {
          "output_type": "execute_result",
          "data": {
            "text/plain": [
              "{1, 2, 6, 7, 9}"
            ]
          },
          "metadata": {
            "tags": []
          },
          "execution_count": 94
        }
      ]
    }
  ]
}