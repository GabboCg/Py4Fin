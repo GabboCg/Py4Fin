{
  "nbformat": 4,
  "nbformat_minor": 0,
  "metadata": {
    "colab": {
      "name": "py4fin_clase_03.ipynb",
      "provenance": [],
      "collapsed_sections": [],
      "toc_visible": true
    },
    "kernelspec": {
      "name": "python3",
      "display_name": "Python 3"
    }
  },
  "cells": [
    {
      "cell_type": "markdown",
      "metadata": {
        "id": "Hcckbt6119D3"
      },
      "source": [
        "# <img src=\"https://escudouchile.files.wordpress.com/2012/07/logo-economia-u-de-chile.jpg\" height=\"250\" /> \n",
        "\n",
        "# Introducción a Python para las Finanzas\n",
        "\n",
        "## _&gt; Estructura de Control Iterativo_\n",
        "\n",
        "Gabriel E. Cabrera, M.Sc.<br>\n",
        "<span style = 'font-size: 50%;'>Universidad de Chile<br>\n",
        "Magister en Finanzas - Full Time</span>\n",
        "\n",
        "*Otoño 2021*\n",
        "\n",
        "> Be Water, My Friend. <br>\n",
        "Empty your mind. <br>\n",
        "Be formless, shapeless, like water. <br>\n",
        "You put water into a cup, it becomes the cup. <br>\n",
        "You put water into a bottle, it becomes the bottle. <br>\n",
        "You put it into a teapot, it becomes the teapot. <br>\n",
        "Now water can flow or it can crash. <br>\n",
        "Be water, my friend.\n",
        "<br> <div align=\"right\">— __Bruce Lee__ </div>\n",
        "\n"
      ]
    },
    {
      "cell_type": "markdown",
      "metadata": {
        "id": "c57m43F1TE0c"
      },
      "source": [
        "# *Loop* (ciclo) con & sin `range()`"
      ]
    },
    {
      "cell_type": "markdown",
      "metadata": {
        "id": "Z48IM7o5TfZe"
      },
      "source": [
        "1. Construya una lista que contenga el nombre de las siguientes empresas tecnológicas: 'Facebook', 'Apple', 'Amazon' y 'Netflix'.\n",
        "\n",
        "    a. Muestre en la consola cada elemento en la lista.\n",
        "\n",
        "    b. Muestre en la consola cada elemento en la lista con su respectivo índice.\n",
        "\n",
        "    c. Muestre en la consola cada letra que compone a cada elemento (empresa) en la lista."
      ]
    },
    {
      "cell_type": "code",
      "metadata": {
        "id": "Wt1N7hctTewm"
      },
      "source": [
        ""
      ],
      "execution_count": null,
      "outputs": []
    },
    {
      "cell_type": "markdown",
      "metadata": {
        "id": "2bpWjRJPUsZ2"
      },
      "source": [
        "2. Genere una secuencia desde el 0 hasta el 10 y muestre cada valor en la consola."
      ]
    },
    {
      "cell_type": "code",
      "metadata": {
        "id": "rOzHIeMnVIYu"
      },
      "source": [
        ""
      ],
      "execution_count": null,
      "outputs": []
    },
    {
      "cell_type": "markdown",
      "metadata": {
        "id": "goUKg1o7WJQS"
      },
      "source": [
        "3. Genere una secuencia desde el 0 hasta el 10 y muestre cada valor en la consola de mayor a menor."
      ]
    },
    {
      "cell_type": "code",
      "metadata": {
        "id": "N2tT5QdTWKAt"
      },
      "source": [
        ""
      ],
      "execution_count": null,
      "outputs": []
    },
    {
      "cell_type": "markdown",
      "metadata": {
        "id": "O9xiLMf88KFZ"
      },
      "source": [
        "# Condicionales"
      ]
    },
    {
      "cell_type": "markdown",
      "metadata": {
        "id": "Kw6dFmXsQYIV"
      },
      "source": [
        "1. Construya la siguiente secuencia de números incluyendo los `None`: 1, 2, `None`, 4, 5, 6, `None`. Luego utilizando un *loop* (ciclo) sume los elementos que son númericos (no considerar `None`)"
      ]
    },
    {
      "cell_type": "code",
      "metadata": {
        "id": "m5-VLOPV8XI-"
      },
      "source": [
        ""
      ],
      "execution_count": null,
      "outputs": []
    },
    {
      "cell_type": "markdown",
      "metadata": {
        "id": "0XlxhcLvcpZ6"
      },
      "source": [
        "2. Construya la siguiente secuencia de números incluyendo los `None`: 1, 2, `None`, 4, 5, 6, `None`. Luego utilizando un *loop* (ciclo) sume todos los elementos númericos antes del primer `none`."
      ]
    },
    {
      "cell_type": "code",
      "metadata": {
        "id": "rGZCfWzmcpiD"
      },
      "source": [
        ""
      ],
      "execution_count": null,
      "outputs": []
    },
    {
      "cell_type": "markdown",
      "metadata": {
        "id": "lgOtMTLbRl1N"
      },
      "source": [
        "3. Construya la siguiente secuencia de números: 1, 2, 3, 4, 5, 6, 7. Luego utilizando un *loop* (ciclo) sume los elementos menores al número 5."
      ]
    },
    {
      "cell_type": "code",
      "metadata": {
        "id": "2At8PqimRl-A"
      },
      "source": [
        ""
      ],
      "execution_count": null,
      "outputs": []
    },
    {
      "cell_type": "markdown",
      "metadata": {
        "id": "uqjr9YTHRmFM"
      },
      "source": [
        "4. Sume todo los números desde 0 hasta 15 que sean múltiplos de 3 o 5."
      ]
    },
    {
      "cell_type": "code",
      "metadata": {
        "id": "wbPH3GRvRmL4"
      },
      "source": [
        ""
      ],
      "execution_count": null,
      "outputs": []
    },
    {
      "cell_type": "markdown",
      "metadata": {
        "id": "Wy1phsjpQiau"
      },
      "source": [
        "5. Construya un *loop* (ciclo) que genere la secuencia de Fibonacci la que se caracteriza porque cada número es la suma de los dos números previos. Por ejemplo los 14 primeros número de la secuencia son: 0, 1, 1, 2, 3, 5, 8, 13, 21, 34, 55, 89, 144, 233."
      ]
    },
    {
      "cell_type": "code",
      "metadata": {
        "id": "u79UZBdHTh-3"
      },
      "source": [
        ""
      ],
      "execution_count": null,
      "outputs": []
    },
    {
      "cell_type": "markdown",
      "metadata": {
        "id": "lvNlq54V8nAw"
      },
      "source": [
        "# *Comprehension*\n",
        "\n",
        "Una \"*list comprehension*\" permite formar nuevas listas (`list`) filtrando los elementos de una colección (secuencia) a partir de una sola expresión. Su forma tradicional es la siguiente:\n",
        "\n",
        "```\n",
        "[expr for val in collection if condition]\n",
        "```\n",
        "lo anterior es quivalente con:\n",
        "\n",
        "```\n",
        "res = []\n",
        "for val in collection:\n",
        "  if condition:\n",
        "    result.append(expr)\n",
        "```\n"
      ]
    },
    {
      "cell_type": "markdown",
      "metadata": {
        "id": "4fWvJ4ITNRlP"
      },
      "source": [
        "Por ejemplo:"
      ]
    },
    {
      "cell_type": "code",
      "metadata": {
        "id": "OqGNlLUo8zRb"
      },
      "source": [
        "list2 = ['Facebook', 'Apple', 'Amazon', 'Netflix']\n",
        "\n",
        "list2_title = [elem.upper() for elem in list2]\n",
        "list2_title "
      ],
      "execution_count": null,
      "outputs": []
    },
    {
      "cell_type": "markdown",
      "metadata": {
        "id": "n_Y2lOSjvNUn"
      },
      "source": [
        "Siendo equivalente en su forma estandar con:"
      ]
    },
    {
      "cell_type": "code",
      "metadata": {
        "id": "1KxYL02WuzFO"
      },
      "source": [
        "list2_title2 = []\n",
        "\n",
        "for elem in list2:\n",
        "  list2_title2.append(elem.upper())\n",
        "\n",
        "list2_title2"
      ],
      "execution_count": null,
      "outputs": []
    },
    {
      "cell_type": "markdown",
      "metadata": {
        "id": "4-3xTrvNqaOk"
      },
      "source": [
        "Incluso puedo agregar el condicionale `else` lo que cambia un poco la estructura de la *list comprehension* pero el objetivo es el mismo:"
      ]
    },
    {
      "cell_type": "code",
      "metadata": {
        "id": "CWcCUvB5qZnz"
      },
      "source": [
        "[num if (num%3 == 0) or (num%5 == 0) else None for num in range(16)]"
      ],
      "execution_count": null,
      "outputs": []
    },
    {
      "cell_type": "markdown",
      "metadata": {
        "id": "6C-G9aszvsqC"
      },
      "source": [
        "Siendo equivalente en su forma estandar con:"
      ]
    },
    {
      "cell_type": "code",
      "metadata": {
        "id": "4KiOBmdsvswp"
      },
      "source": [
        "res2 = []\n",
        "\n",
        "for num in range(16):\n",
        "  if (num%3 == 0) or (num%5 == 0):\n",
        "    res2.append(num)\n",
        "  else:\n",
        "    res2.append(None)\n",
        "\n",
        "res2"
      ],
      "execution_count": null,
      "outputs": []
    },
    {
      "cell_type": "markdown",
      "metadata": {
        "id": "_Oa4Rgnwrur3"
      },
      "source": [
        "Tambien se puede utilizar para \"aplanar\" (*flatten*) listas anidadas:"
      ]
    },
    {
      "cell_type": "code",
      "metadata": {
        "id": "dJHfdl_Lru1Q"
      },
      "source": [
        "nested_list = [[1, 2, 3], [4, 5, 6], [7, 8, 9]]\n",
        "\n",
        "[sub_elem for elem in nested_list for sub_elem in elem]"
      ],
      "execution_count": null,
      "outputs": []
    },
    {
      "cell_type": "markdown",
      "metadata": {
        "id": "TgwlTYgewLaH"
      },
      "source": [
        "Siendo equivalente en su forma estandar con:"
      ]
    },
    {
      "cell_type": "code",
      "metadata": {
        "id": "2_U5C2c4wLhG"
      },
      "source": [
        "flattened_list = []\n",
        "\n",
        "for elem in nested_list:\n",
        "  for sub_elem in elem:\n",
        "    flattened_list.append(sub_elem)\n",
        "\n",
        "flattened_list"
      ],
      "execution_count": null,
      "outputs": []
    },
    {
      "cell_type": "markdown",
      "metadata": {
        "id": "abFo2eRexVfS"
      },
      "source": [
        "Para ver *comprehension* de diccionarios (`dict`) y tuplas (`tuple`) ver la página 67 y 68 del libro *Python for Data Analysis: Data Wrangling with Pandas, Numpy, and Ipython* de Wes McKinney."
      ]
    }
  ]
}