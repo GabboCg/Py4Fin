{
  "nbformat": 4,
  "nbformat_minor": 0,
  "metadata": {
    "colab": {
      "name": "py4fin_clase_03_pauta.ipynb",
      "provenance": [],
      "collapsed_sections": []
    },
    "kernelspec": {
      "name": "python3",
      "display_name": "Python 3"
    }
  },
  "cells": [
    {
      "cell_type": "markdown",
      "metadata": {
        "id": "Hcckbt6119D3"
      },
      "source": [
        "# <img src=\"https://escudouchile.files.wordpress.com/2012/07/logo-economia-u-de-chile.jpg\" height=\"250\" /> \n",
        "\n",
        "# Introducción a Python para las Finanzas\n",
        "\n",
        "## _&gt; Estructura de Control Iterativo (Pauta)_\n",
        "\n",
        "Gabriel E. Cabrera, M.Sc.<br>\n",
        "<span style = 'font-size: 50%;'>Universidad de Chile<br>\n",
        "Magister en Finanzas - Full Time</span>\n",
        "\n",
        "*Otoño 2021*\n",
        "\n",
        "> Be Water, My Friend. <br>\n",
        "Empty your mind. <br>\n",
        "Be formless, shapeless, like water. <br>\n",
        "You put water into a cup, it becomes the cup. <br>\n",
        "You put water into a bottle, it becomes the bottle. <br>\n",
        "You put it into a teapot, it becomes the teapot. <br>\n",
        "Now water can flow or it can crash. <br>\n",
        "Be water, my friend.\n",
        "<br> <div align=\"right\">— __Bruce Lee__ </div>\n",
        "\n"
      ]
    },
    {
      "cell_type": "markdown",
      "metadata": {
        "id": "c57m43F1TE0c"
      },
      "source": [
        "# *Loop* (ciclo) con & sin `range()`"
      ]
    },
    {
      "cell_type": "markdown",
      "metadata": {
        "id": "Z48IM7o5TfZe"
      },
      "source": [
        "1. Construya una lista que contenga el nombre de las siguientes empresas tecnológicas: 'Facebook', 'Apple', 'Amazon' y 'Netflix'.\n",
        "\n",
        "    a. Muestre en la consola cada elemento en la lista.\n",
        "\n",
        "    b. Muestre en la consola cada elemento en la lista con su respectivo índice.\n",
        "\n",
        "    c. Muestre en la consola cada letra que compone a cada elemento (empresa) en la lista."
      ]
    },
    {
      "cell_type": "code",
      "metadata": {
        "id": "Wt1N7hctTewm"
      },
      "source": [
        "'''1.a'''\n",
        "lista1 = ['Facebook', 'Apple', 'Amazon', 'Netflix']\n",
        "\n",
        "for tech in lista1:\n",
        "  print('Empresa:'+tech)\n",
        "\n",
        "'''1.b'''\n",
        "for i, tech in enumerate(lista1):\n",
        "  print('índice:'+str(i)+','+'Empresa:'+tech)\n",
        "\n",
        "'''1.c'''\n",
        "for tech in lista1:\n",
        "  for i, letra in enumerate(tech):\n",
        "    print('n°:'+str(i)+','+'Letra:'+letra+','+'Empresa:'+tech)"
      ],
      "execution_count": null,
      "outputs": []
    },
    {
      "cell_type": "markdown",
      "metadata": {
        "id": "2bpWjRJPUsZ2"
      },
      "source": [
        "2. Genere una secuencia desde el 0 hasta el 10 y muestre cada valor en la consola."
      ]
    },
    {
      "cell_type": "code",
      "metadata": {
        "id": "rOzHIeMnVIYu"
      },
      "source": [
        "for num in range(0,11):\n",
        "  print(num)"
      ],
      "execution_count": null,
      "outputs": []
    },
    {
      "cell_type": "markdown",
      "metadata": {
        "id": "goUKg1o7WJQS"
      },
      "source": [
        "3. Genere una secuencia desde el 0 hasta el 10 y muestre cada valor en la consola de mayor a menor."
      ]
    },
    {
      "cell_type": "code",
      "metadata": {
        "id": "N2tT5QdTWKAt"
      },
      "source": [
        "for num in reversed(range(0,11)):\n",
        "  print(num)"
      ],
      "execution_count": null,
      "outputs": []
    },
    {
      "cell_type": "markdown",
      "metadata": {
        "id": "O9xiLMf88KFZ"
      },
      "source": [
        "# Condicionales"
      ]
    },
    {
      "cell_type": "markdown",
      "metadata": {
        "id": "Kw6dFmXsQYIV"
      },
      "source": [
        "1. Construya la siguiente secuencia de números incluyendo los `None`: 1, 2, `None`, 4, 5, 6, `None`. Luego utilizando un *loop* (ciclo) sume los elementos que son númericos (no considerar `None`)"
      ]
    },
    {
      "cell_type": "code",
      "metadata": {
        "id": "m5-VLOPV8XI-",
        "colab": {
          "base_uri": "https://localhost:8080/"
        },
        "outputId": "b172eb9f-19c1-4bcf-ba84-6f95df1d3c58"
      },
      "source": [
        "seq = [1, 2, None, 4, 5, 6, None]\n",
        "\n",
        "# variable igual a cero\n",
        "total = 0\n",
        "\n",
        "for j in seq:\n",
        "  if j == None:\n",
        "    continue    \n",
        "  else:\n",
        "    total += j\n",
        "\n",
        "print('La suma total es: '+str(total))"
      ],
      "execution_count": null,
      "outputs": [
        {
          "output_type": "stream",
          "text": [
            "La suma total es: 18\n"
          ],
          "name": "stdout"
        }
      ]
    },
    {
      "cell_type": "markdown",
      "metadata": {
        "id": "0XlxhcLvcpZ6"
      },
      "source": [
        "2. Construya la siguiente secuencia de números incluyendo los `None`: 1, 2, `None`, 4, 5, 6, `None`. Luego utilizando un *loop* (ciclo) sume todos los elementos númericos antes del primer `none`."
      ]
    },
    {
      "cell_type": "code",
      "metadata": {
        "colab": {
          "base_uri": "https://localhost:8080/"
        },
        "id": "rGZCfWzmcpiD",
        "outputId": "43162edb-e4ec-4a11-8855-9835335544f1"
      },
      "source": [
        "seq1 = [1, 2, None, 4, 5, 6, None]\n",
        "\n",
        "# variable igual a cero\n",
        "total1 = 0\n",
        "\n",
        "for j in seq1:\n",
        "  if j == None:\n",
        "    break   \n",
        "  else:\n",
        "    total1 += j\n",
        "\n",
        "print('La suma total es: '+str(total1))"
      ],
      "execution_count": null,
      "outputs": [
        {
          "output_type": "stream",
          "text": [
            "La suma total es: 3\n"
          ],
          "name": "stdout"
        }
      ]
    },
    {
      "cell_type": "markdown",
      "metadata": {
        "id": "lgOtMTLbRl1N"
      },
      "source": [
        "3. Construya la siguiente secuencia de números: 1, 2, 3, 4, 5, 6, 7. Luego utilizando un *loop* (ciclo) sume los elementos menores al número 5."
      ]
    },
    {
      "cell_type": "code",
      "metadata": {
        "colab": {
          "base_uri": "https://localhost:8080/"
        },
        "id": "2At8PqimRl-A",
        "outputId": "42cf838b-dc92-49f1-c445-7f3cddadeeb1"
      },
      "source": [
        "seq2 = list(range(1,8))\n",
        "\n",
        "# forma 1\n",
        "total2 = 0\n",
        "\n",
        "for j in seq2:\n",
        "  if j < 5:\n",
        "    total2 += j\n",
        "  elif j == 5:\n",
        "    print(str(j)+' es igual a 5')\n",
        "  else:\n",
        "    print(str(j)+' es mayor a 5')\n",
        "  \n",
        "total2"
      ],
      "execution_count": null,
      "outputs": [
        {
          "output_type": "stream",
          "text": [
            "5 es igual a 5\n",
            "6 es mayor a 5\n",
            "7 es mayor a 5\n"
          ],
          "name": "stdout"
        },
        {
          "output_type": "execute_result",
          "data": {
            "text/plain": [
              "10"
            ]
          },
          "metadata": {
            "tags": []
          },
          "execution_count": 16
        }
      ]
    },
    {
      "cell_type": "markdown",
      "metadata": {
        "id": "uqjr9YTHRmFM"
      },
      "source": [
        "4. Sume todo los números desde 0 hasta 15 que sean múltiplos de 3 o 5."
      ]
    },
    {
      "cell_type": "code",
      "metadata": {
        "id": "wbPH3GRvRmL4"
      },
      "source": [
        "seq2 = range(16)\n",
        "\n",
        "total3 = 0\n",
        "\n",
        "for k in seq2:\n",
        "  if (k%3 == 0) or (k%5 == 0):\n",
        "    total3 += k\n",
        "  else:\n",
        "    print(str(k)+' no es múltiplo de 3 o 5')\n",
        "\n",
        "total3 "
      ],
      "execution_count": null,
      "outputs": []
    },
    {
      "cell_type": "markdown",
      "metadata": {
        "id": "Wy1phsjpQiau"
      },
      "source": [
        "5. Construya un *loop* (ciclo) que genere la secuencia de Fibonacci la que se caracteriza porque cada número es la suma de los dos números previos. Por ejemplo los 14 primeros número de la secuencia son: 0, 1, 1, 2, 3, 5, 8, 13, 21, 34, 55, 89, 144, 233."
      ]
    },
    {
      "cell_type": "code",
      "metadata": {
        "colab": {
          "base_uri": "https://localhost:8080/"
        },
        "id": "u79UZBdHTh-3",
        "outputId": "40c13bd2-c56f-421a-ed0f-0d05da435f71"
      },
      "source": [
        "fib = []\n",
        "\n",
        "fib.append(0)\n",
        "fib.append(1)\n",
        "\n",
        "x = 1\n",
        "\n",
        "while x <= 12:\n",
        "  res = fib[x] + fib[x - 1] \n",
        "  fib.append(res)\n",
        "  x += 1\n",
        "\n",
        "fib"
      ],
      "execution_count": null,
      "outputs": [
        {
          "output_type": "execute_result",
          "data": {
            "text/plain": [
              "[0, 1, 1, 2, 3, 5, 8, 13, 21, 34, 55, 89, 144, 233]"
            ]
          },
          "metadata": {
            "tags": []
          },
          "execution_count": 22
        }
      ]
    },
    {
      "cell_type": "markdown",
      "metadata": {
        "id": "lvNlq54V8nAw"
      },
      "source": [
        "# *Comprehension*\n",
        "\n",
        "Una \"*list comprehension*\" permite formar nuevas listas (`list`) filtrando los elementos de una colección (secuencia) a partir de una sola expresión. Su forma tradicional es la siguiente:\n",
        "\n",
        "```\n",
        "[expr for val in collection if condition]\n",
        "```\n",
        "lo anterior es quivalente con:\n",
        "\n",
        "```\n",
        "res = []\n",
        "for val in collection:\n",
        "  if condition:\n",
        "    result.append(expr)\n",
        "```\n"
      ]
    },
    {
      "cell_type": "markdown",
      "metadata": {
        "id": "AyW-WRxKNU1-"
      },
      "source": [
        "Por ejemplo:"
      ]
    },
    {
      "cell_type": "code",
      "metadata": {
        "id": "OqGNlLUo8zRb",
        "colab": {
          "base_uri": "https://localhost:8080/"
        },
        "outputId": "6e123818-19f7-4bd2-8f20-1da7d0cee9d3"
      },
      "source": [
        "list2 = ['Facebook', 'Apple', 'Amazon', 'Netflix']\n",
        "\n",
        "list2_title = [elem.upper() for elem in list2]\n",
        "list2_title "
      ],
      "execution_count": null,
      "outputs": [
        {
          "output_type": "execute_result",
          "data": {
            "text/plain": [
              "['FACEBOOK', 'APPLE', 'AMAZON', 'NETFLIX']"
            ]
          },
          "metadata": {
            "tags": []
          },
          "execution_count": 2
        }
      ]
    },
    {
      "cell_type": "markdown",
      "metadata": {
        "id": "n_Y2lOSjvNUn"
      },
      "source": [
        "Siendo equivalente en su forma estandar con:"
      ]
    },
    {
      "cell_type": "code",
      "metadata": {
        "colab": {
          "base_uri": "https://localhost:8080/"
        },
        "id": "1KxYL02WuzFO",
        "outputId": "8ef22338-b905-472d-fc74-741763dfbd96"
      },
      "source": [
        "list2_title2 = []\n",
        "\n",
        "for elem in list2:\n",
        "  list2_title2.append(elem.upper())\n",
        "\n",
        "list2_title2"
      ],
      "execution_count": null,
      "outputs": [
        {
          "output_type": "execute_result",
          "data": {
            "text/plain": [
              "['FACEBOOK', 'APPLE', 'AMAZON', 'NETFLIX']"
            ]
          },
          "metadata": {
            "tags": []
          },
          "execution_count": 18
        }
      ]
    },
    {
      "cell_type": "markdown",
      "metadata": {
        "id": "4-3xTrvNqaOk"
      },
      "source": [
        "Incluso puedo agregar el condicionale `else` lo que cambia un poco la estructura de la *list comprehension* pero el objetivo es el mismo:"
      ]
    },
    {
      "cell_type": "code",
      "metadata": {
        "colab": {
          "base_uri": "https://localhost:8080/"
        },
        "id": "CWcCUvB5qZnz",
        "outputId": "1bdbefae-6ce7-4540-c3fe-9f3cda73ae5d"
      },
      "source": [
        "[num if (num%3 == 0) or (num%5 == 0) else None for num in range(16)]"
      ],
      "execution_count": null,
      "outputs": [
        {
          "output_type": "execute_result",
          "data": {
            "text/plain": [
              "[0, None, None, 3, None, 5, 6, None, None, 9, 10, None, 12, None, None, 15]"
            ]
          },
          "metadata": {
            "tags": []
          },
          "execution_count": 7
        }
      ]
    },
    {
      "cell_type": "markdown",
      "metadata": {
        "id": "6C-G9aszvsqC"
      },
      "source": [
        "Siendo equivalente en su forma estandar con:"
      ]
    },
    {
      "cell_type": "code",
      "metadata": {
        "colab": {
          "base_uri": "https://localhost:8080/"
        },
        "id": "4KiOBmdsvswp",
        "outputId": "62533c91-4dfe-40dc-cf95-3343fda58c0f"
      },
      "source": [
        "res2 = []\n",
        "\n",
        "for num in range(16):\n",
        "  if (num%3 == 0) or (num%5 == 0):\n",
        "    res2.append(num)\n",
        "  else:\n",
        "    res2.append(None)\n",
        "\n",
        "res2"
      ],
      "execution_count": null,
      "outputs": [
        {
          "output_type": "execute_result",
          "data": {
            "text/plain": [
              "[0, None, None, 3, None, 5, 6, None, None, 9, 10, None, 12, None, None, 15]"
            ]
          },
          "metadata": {
            "tags": []
          },
          "execution_count": 17
        }
      ]
    },
    {
      "cell_type": "markdown",
      "metadata": {
        "id": "_Oa4Rgnwrur3"
      },
      "source": [
        "Tambien se puede utilizar para \"aplanar\" (*flatten*) listas anidadas:"
      ]
    },
    {
      "cell_type": "code",
      "metadata": {
        "colab": {
          "base_uri": "https://localhost:8080/"
        },
        "id": "dJHfdl_Lru1Q",
        "outputId": "4a3fb97f-b95d-4c87-bab1-e94989a10330"
      },
      "source": [
        "nested_list = [[1, 2, 3], [4, 5, 6], [7, 8, 9]]\n",
        "\n",
        "[sub_elem for elem in nested_list for sub_elem in elem]"
      ],
      "execution_count": null,
      "outputs": [
        {
          "output_type": "execute_result",
          "data": {
            "text/plain": [
              "[1, 2, 3, 4, 5, 6, 7, 8, 9]"
            ]
          },
          "metadata": {
            "tags": []
          },
          "execution_count": 11
        }
      ]
    },
    {
      "cell_type": "markdown",
      "metadata": {
        "id": "TgwlTYgewLaH"
      },
      "source": [
        "Siendo equivalente en su forma estandar con:"
      ]
    },
    {
      "cell_type": "code",
      "metadata": {
        "colab": {
          "base_uri": "https://localhost:8080/"
        },
        "id": "2_U5C2c4wLhG",
        "outputId": "569a0d0c-6a71-4f8f-a5a6-0dc7375bf746"
      },
      "source": [
        "flattened_list = []\n",
        "\n",
        "for elem in nested_list:\n",
        "  for sub_elem in elem:\n",
        "    flattened_list.append(sub_elem)\n",
        "\n",
        "flattened_list"
      ],
      "execution_count": null,
      "outputs": [
        {
          "output_type": "execute_result",
          "data": {
            "text/plain": [
              "[1, 2, 3, 4, 5, 6, 7, 8, 9]"
            ]
          },
          "metadata": {
            "tags": []
          },
          "execution_count": 19
        }
      ]
    },
    {
      "cell_type": "markdown",
      "metadata": {
        "id": "abFo2eRexVfS"
      },
      "source": [
        "Para ver *comprehension* de diccionarios (`dict`) y tuplas (`tuple`) ver la página 67 y 68 del libro *Python for Data Analysis: Data Wrangling with Pandas, Numpy, and Ipython* de Wes McKinney."
      ]
    }
  ]
}