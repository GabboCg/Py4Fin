{
  "nbformat": 4,
  "nbformat_minor": 0,
  "metadata": {
    "colab": {
      "name": "py4fin_clase_04_pauta.ipynb",
      "provenance": [],
      "collapsed_sections": []
    },
    "kernelspec": {
      "name": "python3",
      "display_name": "Python 3"
    }
  },
  "cells": [
    {
      "cell_type": "markdown",
      "metadata": {
        "id": "Hcckbt6119D3"
      },
      "source": [
        "# <img src=\"https://escudouchile.files.wordpress.com/2012/07/logo-economia-u-de-chile.jpg\" height=\"250\" /> \n",
        "\n",
        "# Introducción a Python para las Finanzas\n",
        "\n",
        "## _&gt; Funciones (Pauta)_\n",
        "\n",
        "Gabriel E. Cabrera, M.Sc.<br>\n",
        "<span style = 'font-size: 50%;'>Universidad de Chile<br>\n",
        "Magister en Finanzas - Full Time</span>\n",
        "\n",
        "*Otoño 2021*\n",
        "\n",
        "> With great power comes great responsibility. \n",
        "<br> <div align=\"right\">— __Amazing Fantasy # 15__ </div>\n",
        "\n"
      ]
    },
    {
      "cell_type": "markdown",
      "metadata": {
        "id": "O9xiLMf88KFZ"
      },
      "source": [
        "# `def(x)`"
      ]
    },
    {
      "cell_type": "markdown",
      "metadata": {
        "id": "DSPB6GJ2kNS9"
      },
      "source": [
        "Una función se declara usando la *keyword* `def` y solo funciona cuando es llamada. Su objetivo principal es evadir la redundancia de código por parte del programador. Por ejemplo, para crear una función que multiple por dos cualquier número (`int` o `float`) y luego calcule la raiz:"
      ]
    },
    {
      "cell_type": "code",
      "metadata": {
        "colab": {
          "base_uri": "https://localhost:8080/"
        },
        "id": "ay8nhzsznxGe",
        "outputId": "6dc3e617-3c19-46fd-f5be-0bf07775c1ea"
      },
      "source": [
        "def mi_funcion(x): # la creación de una función debe partir con def, luego el nombre de la función y entre parentesis los argumentos que tendrá\n",
        "  '''\n",
        "  Documentación (docstring):\n",
        "  Multiplica por dos el argumento númerico y luego calcula la raiz.\n",
        "  '''\n",
        "  a = x * 2 # multiplica por dos x (body)\n",
        "  b = a ** 0.5 # calcula la raiz de x multiplicado por dos (body)\n",
        "  \n",
        "  return(b) # la función debe terminar con return para que \"retorne\" el resultado final de la función\n",
        "\n",
        "# se verifica la función\n",
        "mi_funcion(4) # (x * 2) ** 0.5 = (4 * 2) ** 0.5  "
      ],
      "execution_count": null,
      "outputs": [
        {
          "output_type": "execute_result",
          "data": {
            "text/plain": [
              "2.8284271247461903"
            ]
          },
          "metadata": {
            "tags": []
          },
          "execution_count": 34
        }
      ]
    },
    {
      "cell_type": "markdown",
      "metadata": {
        "id": "hrS06pKVpdUC"
      },
      "source": [
        "Las funciones también pueden tener más de un parámetro (argumento):"
      ]
    },
    {
      "cell_type": "code",
      "metadata": {
        "colab": {
          "base_uri": "https://localhost:8080/"
        },
        "id": "G5YJcOehppz5",
        "outputId": "22a1e750-619c-4c80-ea8e-a44dc01e7078"
      },
      "source": [
        "def mi_funcion2(x, y): # def, nombre función, parámetros (argumentos)\n",
        "  '''\n",
        "  Documentación (docstring): \n",
        "  Suma los dos argumentos numéricos (x + y).\n",
        "  '''\n",
        "  a = x + y # suma x e y (body)\n",
        "\n",
        "  return(a) # return\n",
        "\n",
        "# se verifica la función\n",
        "mi_funcion2(4, 5) # x + y = 4 + 5"
      ],
      "execution_count": null,
      "outputs": [
        {
          "output_type": "execute_result",
          "data": {
            "text/plain": [
              "9"
            ]
          },
          "metadata": {
            "tags": []
          },
          "execution_count": 36
        }
      ]
    },
    {
      "cell_type": "markdown",
      "metadata": {
        "id": "gzApOScDqUrE"
      },
      "source": [
        "Las funciones también pueden retornar más de un *output*:"
      ]
    },
    {
      "cell_type": "code",
      "metadata": {
        "colab": {
          "base_uri": "https://localhost:8080/"
        },
        "id": "mdQf-LMHrTMn",
        "outputId": "7ad32705-6c69-4244-e3d2-92bca9ef95ad"
      },
      "source": [
        "def mi_funcion3(x, y): # def, nombre función, parámetros (argumentos)\n",
        "  '''\n",
        "  Documentación (docstring): \n",
        "  Multiplica y suma ambos argumentos (x e y). Retorna por separado la multiplicación\n",
        "  y la suma.\n",
        "  '''\n",
        "  a = x * y # multiplicación entre x e y (body)\n",
        "  c = x + y # suma x e y (body)\n",
        "\n",
        "  return(a, c) # return\n",
        "\n",
        "# se verifica la función\n",
        "mult_x_y, sum_x_y = mi_funcion3(4, 5) # x * y = 4 * 5 ^ x + y = 4 + 5 \n",
        "\n",
        "mult_x_y\n",
        "sum_x_y "
      ],
      "execution_count": null,
      "outputs": [
        {
          "output_type": "execute_result",
          "data": {
            "text/plain": [
              "9"
            ]
          },
          "metadata": {
            "tags": []
          },
          "execution_count": 37
        }
      ]
    },
    {
      "cell_type": "markdown",
      "metadata": {
        "id": "3tZn8EbmYwFP"
      },
      "source": [
        "## Aplicaciones"
      ]
    },
    {
      "cell_type": "markdown",
      "metadata": {
        "id": "sU8qCT1mSov9"
      },
      "source": [
        "1. Construya una función que para un número $n$ entregue como *output* la suma de los cuadrados de $1^2 + 2^2 + 3^2 + 4^3 + ... + n^2$."
      ]
    },
    {
      "cell_type": "code",
      "metadata": {
        "id": "m5-VLOPV8XI-",
        "colab": {
          "base_uri": "https://localhost:8080/"
        },
        "outputId": "aa12b1c9-c85f-4675-d684-5fd918ee5ac4"
      },
      "source": [
        "def elevado(n):\n",
        "  total = 0\n",
        "  for i in range(1,n+1):\n",
        "    total += i ** 2\n",
        "  return(total)\n",
        "\n",
        "elevado(5)"
      ],
      "execution_count": null,
      "outputs": [
        {
          "output_type": "execute_result",
          "data": {
            "text/plain": [
              "55"
            ]
          },
          "metadata": {
            "tags": []
          },
          "execution_count": 7
        }
      ]
    },
    {
      "cell_type": "markdown",
      "metadata": {
        "id": "t80EbDqxS9Zx"
      },
      "source": [
        "2. Construya una función que entregue como output si un número es o no divisible por 4.\n"
      ]
    },
    {
      "cell_type": "code",
      "metadata": {
        "colab": {
          "base_uri": "https://localhost:8080/"
        },
        "id": "VcHhzN5lS9qs",
        "outputId": "4c48b9c6-1192-410c-b23e-d8f7e5f887ca"
      },
      "source": [
        "def divisible(n):\n",
        "  if (n % 4) == 0:\n",
        "    return(print('El número '+str(n)+' es divisible por 4.'))\n",
        "  else:\n",
        "    return(print('El número '+str(n)+' no es divisible por 4.'))\n",
        "\n",
        "divisible(16)"
      ],
      "execution_count": null,
      "outputs": [
        {
          "output_type": "stream",
          "text": [
            "El número 16 es divisible por 4.\n"
          ],
          "name": "stdout"
        }
      ]
    },
    {
      "cell_type": "markdown",
      "metadata": {
        "id": "pfysTOo_S9xI"
      },
      "source": [
        "3. Construya una función que entregue la media aritmética o media geométrica de un conjunto de datos.\n"
      ]
    },
    {
      "cell_type": "code",
      "metadata": {
        "colab": {
          "base_uri": "https://localhost:8080/"
        },
        "id": "Y21aY6dfTG3d",
        "outputId": "ad655b22-5f0c-4107-a081-8fe1ab9764bc"
      },
      "source": [
        "def media_aritmetica(n):\n",
        "  output = sum(n) / len(n)\n",
        "  return(output)\n",
        "\n",
        "media_aritmetica([1,2,3,4,5])"
      ],
      "execution_count": null,
      "outputs": [
        {
          "output_type": "execute_result",
          "data": {
            "text/plain": [
              "3.0"
            ]
          },
          "metadata": {
            "tags": []
          },
          "execution_count": 16
        }
      ]
    },
    {
      "cell_type": "markdown",
      "metadata": {
        "id": "Cmkn9dhfTjO-"
      },
      "source": [
        "4. Construya una función que permita calcular el valor presente neto (VPN) de un flujo efectivo.\n",
        "\n",
        "  $$\n",
        "  VPN = \\sum^{T}_{t=0} \\frac{F_t}{(1 + r)^t}\n",
        "  $$\n",
        "\n",
        "  Donde $F_t$ es el flujo en el periodo $t$, $r$ es la tasa de descuento y $T$ es el número total de periodos. Considere los siguientes flujos:\n",
        "\n",
        "| Periodo | Flujo ($) |\n",
        "|---------|-----------|\n",
        "| 0       | -500000   |\n",
        "| 1       | 100000    |\n",
        "| 2       | 150000    |\n",
        "| 3       | 180000    |\n",
        "| 4       | 200000    |\n",
        "| 5       | 300000    | \n",
        "  \n",
        "<br>\n",
        "\n",
        "&nbsp;&nbsp;&nbsp;&nbsp;&nbsp;&nbsp;&nbsp;&nbsp;&nbsp; Si la tasa de descuento es 12% el valor presente neto es:\n",
        "\n",
        "$$\n",
        "VPN = -500000 + \\frac{100000}{(1+0,12)} + \\frac{150000}{(1+0,12)} + \\frac{180000}{(1+0,12)} + \\frac{200000}{(1+0,12)} + \\frac{300000 }{(1+0,12)} = 134316.91\n",
        "$$"
      ]
    },
    {
      "cell_type": "code",
      "metadata": {
        "colab": {
          "base_uri": "https://localhost:8080/"
        },
        "id": "-Gzl-lZkU5G7",
        "outputId": "41d3496f-5227-4f1a-ae35-fa474e456bb2"
      },
      "source": [
        "def valor_neto_presente(flujo, tasa):\n",
        "   total = 0\n",
        "   for i, num in enumerate(flujo):\n",
        "     if i == 0:\n",
        "       total += num\n",
        "     else:\n",
        "       total += num / (1 + tasa) ** (i) \n",
        "   return(total)\n",
        "\n",
        "flujos = [-500000,100000,150000,180000,200000,300000]\n",
        "\n",
        "valor_neto_presente(flujos, 0.12)"
      ],
      "execution_count": null,
      "outputs": [
        {
          "output_type": "execute_result",
          "data": {
            "text/plain": [
              "134316.91292132728"
            ]
          },
          "metadata": {
            "tags": []
          },
          "execution_count": 18
        }
      ]
    },
    {
      "cell_type": "markdown",
      "metadata": {
        "id": "rkgUP-P_8XQB"
      },
      "source": [
        "# Funciones Anónimas (*Lambda*)"
      ]
    },
    {
      "cell_type": "markdown",
      "metadata": {
        "id": "obFWJgGEIpOS"
      },
      "source": [
        "Las funciones anónimas o lambda consisten en escribir una función en una sola sentencia. Se utilizan mediante la *keyword* `lambda`, que le \"dice\" a Python \"se está declarando una función anónima\". Son útiles para utilizar dentro de una función definida (`def`), por ejemplo:"
      ]
    },
    {
      "cell_type": "code",
      "metadata": {
        "colab": {
          "base_uri": "https://localhost:8080/"
        },
        "id": "4spEJyLHKRse",
        "outputId": "e18f5c9a-8d52-43b3-c121-a42a1f2c4c7c"
      },
      "source": [
        "seq = [1, 2, 4]\n",
        "\n",
        "def apply_a_una_lista(lista, f):\n",
        "    return [f(x) for x in lista]\n",
        "\n",
        "apply_a_una_lista(seq, lambda x: x ** 2)"
      ],
      "execution_count": null,
      "outputs": [
        {
          "output_type": "execute_result",
          "data": {
            "text/plain": [
              "[1, 4, 16]"
            ]
          },
          "metadata": {
            "tags": []
          },
          "execution_count": 1
        }
      ]
    },
    {
      "cell_type": "markdown",
      "metadata": {
        "id": "ZnkZ53G8KkKp"
      },
      "source": [
        "La función `apply_a_una_lista` tiene como argumento una lista de números (`seq`)  y una función (`lambda`) que se aplica a una *list comprehension* retornando cada número de esa lista al cuadrado. Se denominan anónimas debido que no se definen utilizando `def`."
      ]
    },
    {
      "cell_type": "markdown",
      "metadata": {
        "id": "R5essO66v6X2"
      },
      "source": [
        "# Importar Funciones"
      ]
    },
    {
      "cell_type": "markdown",
      "metadata": {
        "id": "4Osey8hHvDqD"
      },
      "source": [
        "1. Guarde la funciones creadas en 1.3 y 1.4 en un script con el nombre `funciones_auxiliares.py`. Luego importelas a su espacio de trabajo y compruebe que pueden ser utilizadas de igual forma, es decir, sin tener que programarlas desde cero cada vez que se quieran utilizar."
      ]
    },
    {
      "cell_type": "code",
      "metadata": {
        "id": "sD1X-DaDwzJW"
      },
      "source": [
        "!wget -O funciones_auxiliares.py https://www.dropbox.com/s/10sknbgf8oa8m47/funciones_auxiliares.py?dl=0"
      ],
      "execution_count": null,
      "outputs": []
    },
    {
      "cell_type": "markdown",
      "metadata": {
        "id": "zS0SCSssx-7u"
      },
      "source": [
        "&nbsp;&nbsp;&nbsp;&nbsp;&nbsp;&nbsp;&nbsp;&nbsp;&nbsp; Para cargar las funciones desde el archivo `funciones_auxiliares.py`:"
      ]
    },
    {
      "cell_type": "code",
      "metadata": {
        "id": "b2ynDVidwjl-"
      },
      "source": [
        "from funciones_auxiliares import media_aritmetica, valor_neto_presente # tiene que estár en el mismo directorio, si se * y no el nombre de cada función se cargan todas las funciones disponibles"
      ],
      "execution_count": null,
      "outputs": []
    },
    {
      "cell_type": "code",
      "metadata": {
        "colab": {
          "base_uri": "https://localhost:8080/"
        },
        "id": "lpvyy-2GxMxL",
        "outputId": "5b69d2f3-be0c-4f55-eff6-7f710b0905d6"
      },
      "source": [
        "# función de 1.3\n",
        "media_aritmetica([1,2,3,4,5])"
      ],
      "execution_count": null,
      "outputs": [
        {
          "output_type": "execute_result",
          "data": {
            "text/plain": [
              "3.0"
            ]
          },
          "metadata": {
            "tags": []
          },
          "execution_count": 42
        }
      ]
    },
    {
      "cell_type": "code",
      "metadata": {
        "colab": {
          "base_uri": "https://localhost:8080/"
        },
        "id": "USD_riEhxM54",
        "outputId": "9ef95f25-5a18-4cc0-f99d-23551262a7a8"
      },
      "source": [
        "# función de 1.4\n",
        "flujos = [-500000,100000,150000,180000,200000,300000]\n",
        "\n",
        "valor_neto_presente(flujos, 0.12)"
      ],
      "execution_count": null,
      "outputs": [
        {
          "output_type": "execute_result",
          "data": {
            "text/plain": [
              "134316.91292132728"
            ]
          },
          "metadata": {
            "tags": []
          },
          "execution_count": 43
        }
      ]
    }
  ]
}