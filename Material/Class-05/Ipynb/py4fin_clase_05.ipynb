{
  "nbformat": 4,
  "nbformat_minor": 0,
  "metadata": {
    "colab": {
      "name": "py4fin_clase_05.ipynb",
      "provenance": [],
      "collapsed_sections": []
    },
    "kernelspec": {
      "name": "python3",
      "display_name": "Python 3"
    }
  },
  "cells": [
    {
      "cell_type": "markdown",
      "metadata": {
        "id": "Hcckbt6119D3"
      },
      "source": [
        "# <img src=\"https://escudouchile.files.wordpress.com/2012/07/logo-economia-u-de-chile.jpg\" height=\"250\" /> \n",
        "\n",
        "# Introducción a Python para las Finanzas\n",
        "\n",
        "## _&gt; Introducción a NumPy (Pauta)_\n",
        "\n",
        "Gabriel E. Cabrera, M.Sc.<br>\n",
        "<span style = 'font-size: 50%;'>Universidad de Chile<br>\n",
        "Magister en Finanzas - Full Time</span>\n",
        "\n",
        "*Otoño 2021*\n",
        "\n",
        "> Simple is better than complex. \n",
        "<br> <div align=\"right\">— __Third Principle, Zen of Python__ </div>"
      ]
    },
    {
      "cell_type": "markdown",
      "metadata": {
        "id": "CK5YOSKJkyqN"
      },
      "source": [
        "# Arrays"
      ]
    },
    {
      "cell_type": "markdown",
      "metadata": {
        "id": "VwY4kxpZCDiL"
      },
      "source": [
        "Los objetos como las listas (`list`) son muy convenientes debido a su flexibilidad (mutables), sin embargo, este tipo de estructura tiene un costo, ocupan mucha memoria y su desempeño es bajo. Las aplicaciones financieras y/o cientificas necesitan operaciones de alto desempeño en estructuras especiales. Una de las estructura de datos más importantes son los *array*. Los *arrays* suelen estructurar otros objetos del mismo tipo de dato en las filas como en las columnas.\n",
        "\n",
        "Si se asume que el tipo de dato más relevante es `float` e `int` (la idea se puede extender a otros tipos de datos), un `array` de una dimensión representaría, matemáticamente hablando, un vector fila o columna (depende como se defina). Los casos más comunes son las matrices que sería un `array` de dos  dimensiones $i\\times j$ (fila y columna).\n",
        "\n",
        "Se necesita entonces una clase capaz de trabajar eficientemente con *arrays*. La solución es la librería **NumPy** con su clase `ndarray`.\n",
        "\n",
        "Si se quiere crear la matriz $X$:\n",
        "\n",
        "$$\n",
        "X = \\begin{pmatrix}\n",
        "1 & 2 & 3 \\\\\n",
        "4 & 5 & 6 \\\\\n",
        "7 & 8 & 9\n",
        "\\end{pmatrix}\n",
        "$$\n",
        "\n",
        "Con la listas (`list`):"
      ]
    },
    {
      "cell_type": "code",
      "metadata": {
        "colab": {
          "base_uri": "https://localhost:8080/"
        },
        "id": "1oYM-rRglcEo",
        "outputId": "8538e940-5177-473c-e245-80b602e23cee"
      },
      "source": [
        "x = list([[1,2,3],[4,5,6],[7,8,9]])\n",
        "x"
      ],
      "execution_count": null,
      "outputs": [
        {
          "output_type": "execute_result",
          "data": {
            "text/plain": [
              "[[1, 2, 3], [4, 5, 6], [7, 8, 9]]"
            ]
          },
          "metadata": {
            "tags": []
          },
          "execution_count": 2
        }
      ]
    },
    {
      "cell_type": "markdown",
      "metadata": {
        "id": "TycjIK9kk6zF"
      },
      "source": [
        "Donde cada elemento anidado a la lista sería una fila de la matriz $X$ y cada elemento del elemento anidado una columna. Si se desa ver el valor de la posición $2\\times 2$:"
      ]
    },
    {
      "cell_type": "code",
      "metadata": {
        "colab": {
          "base_uri": "https://localhost:8080/"
        },
        "id": "v4MY0rCzmOA1",
        "outputId": "ac5a1293-6ad0-4e2f-b781-c79271640997"
      },
      "source": [
        "x[1][1]"
      ],
      "execution_count": null,
      "outputs": [
        {
          "output_type": "execute_result",
          "data": {
            "text/plain": [
              "5"
            ]
          },
          "metadata": {
            "tags": []
          },
          "execution_count": 4
        }
      ]
    },
    {
      "cell_type": "markdown",
      "metadata": {
        "id": "MOzizBqlmZNj"
      },
      "source": [
        "Sin embargo, python interpreta a la variable $X$ como una lista y no como un `array`. Utilizando `numpy`"
      ]
    },
    {
      "cell_type": "code",
      "metadata": {
        "id": "tBplgNdaCELV",
        "colab": {
          "base_uri": "https://localhost:8080/"
        },
        "outputId": "cfe64d10-d884-429a-8d3c-4115f45b51e9"
      },
      "source": [
        "import numpy as np\n",
        "\n",
        "mat_x = np.array(x) # se genera el array\n",
        "mat_x"
      ],
      "execution_count": null,
      "outputs": [
        {
          "output_type": "execute_result",
          "data": {
            "text/plain": [
              "array([[1, 2, 3],\n",
              "       [4, 5, 6],\n",
              "       [7, 8, 9]])"
            ]
          },
          "metadata": {
            "tags": []
          },
          "execution_count": 5
        }
      ]
    },
    {
      "cell_type": "markdown",
      "metadata": {
        "id": "dP-Z6pz2nGER"
      },
      "source": [
        "Ahora la variable `mat_x` es un *array* y como tal posee los siguientes atributos: "
      ]
    },
    {
      "cell_type": "markdown",
      "metadata": {
        "id": "Zo1BGc8cn0XA"
      },
      "source": [
        "* Dimensiones:"
      ]
    },
    {
      "cell_type": "code",
      "metadata": {
        "colab": {
          "base_uri": "https://localhost:8080/"
        },
        "id": "YIiIK7NhnFdH",
        "outputId": "eff58ffc-cebd-412c-cfdf-9a67e1f4007e"
      },
      "source": [
        "mat_x.ndim # posee dos dimensiones"
      ],
      "execution_count": null,
      "outputs": [
        {
          "output_type": "execute_result",
          "data": {
            "text/plain": [
              "2"
            ]
          },
          "metadata": {
            "tags": []
          },
          "execution_count": 9
        }
      ]
    },
    {
      "cell_type": "markdown",
      "metadata": {
        "id": "oK3doo1An9GY"
      },
      "source": [
        "* Los valores de las dimensiones:"
      ]
    },
    {
      "cell_type": "code",
      "metadata": {
        "colab": {
          "base_uri": "https://localhost:8080/"
        },
        "id": "H07BE9Rln3zd",
        "outputId": "b7c2a973-1f81-45b3-bd58-1f3f1880b2f2"
      },
      "source": [
        "m, n = mat_x.shape # número de filas y columnas\n",
        "m, n"
      ],
      "execution_count": null,
      "outputs": [
        {
          "output_type": "execute_result",
          "data": {
            "text/plain": [
              "(3, 3)"
            ]
          },
          "metadata": {
            "tags": []
          },
          "execution_count": 10
        }
      ]
    },
    {
      "cell_type": "markdown",
      "metadata": {
        "id": "DQdCHgXwoDBY"
      },
      "source": [
        "* Total de elementos:"
      ]
    },
    {
      "cell_type": "code",
      "metadata": {
        "colab": {
          "base_uri": "https://localhost:8080/"
        },
        "id": "YyMI8PnuoFey",
        "outputId": "a2867af4-ac61-4a94-ab4c-f77abf505520"
      },
      "source": [
        "mat_x.size"
      ],
      "execution_count": null,
      "outputs": [
        {
          "output_type": "execute_result",
          "data": {
            "text/plain": [
              "9"
            ]
          },
          "metadata": {
            "tags": []
          },
          "execution_count": 11
        }
      ]
    },
    {
      "cell_type": "markdown",
      "metadata": {
        "id": "QV-YTcgYoXfw"
      },
      "source": [
        "* Nueva clase:"
      ]
    },
    {
      "cell_type": "code",
      "metadata": {
        "colab": {
          "base_uri": "https://localhost:8080/"
        },
        "id": "TjU9OwssoW_Q",
        "outputId": "47cff26b-2c6f-44a8-bbd8-f30969be24a5"
      },
      "source": [
        "type(mat_x)"
      ],
      "execution_count": null,
      "outputs": [
        {
          "output_type": "execute_result",
          "data": {
            "text/plain": [
              "numpy.ndarray"
            ]
          },
          "metadata": {
            "tags": []
          },
          "execution_count": 12
        }
      ]
    },
    {
      "cell_type": "markdown",
      "metadata": {
        "id": "sXScTdRNpsDy"
      },
      "source": [
        "la versión `range()` que se encuentra *built-in* en Python, existe en **NumPy** como `arange()`. "
      ]
    },
    {
      "cell_type": "code",
      "metadata": {
        "colab": {
          "base_uri": "https://localhost:8080/"
        },
        "id": "yIg_m33sqCJf",
        "outputId": "48524070-89d3-4acc-8af9-1a42e1c01c68"
      },
      "source": [
        "np.arange(1,10).reshape(-1,3)"
      ],
      "execution_count": null,
      "outputs": [
        {
          "output_type": "execute_result",
          "data": {
            "text/plain": [
              "array([[1, 2, 3],\n",
              "       [4, 5, 6],\n",
              "       [7, 8, 9]])"
            ]
          },
          "metadata": {
            "tags": []
          },
          "execution_count": 16
        }
      ]
    },
    {
      "cell_type": "markdown",
      "metadata": {
        "id": "eyMO4E5A2sZL"
      },
      "source": [
        "La documentación de la librería se encuentra en https://numpy.org/doc/stable/reference/."
      ]
    },
    {
      "cell_type": "markdown",
      "metadata": {
        "id": "Yvlqm9gGqmnh"
      },
      "source": [
        "# NumPy"
      ]
    },
    {
      "cell_type": "markdown",
      "metadata": {
        "id": "Ohls1DDYNNy3"
      },
      "source": [
        "1. Genere la siguiente matriz:\n",
        "\n",
        "  $$\n",
        "  A = \\begin{pmatrix}\n",
        "  3 & 0 & 2 \\\\\n",
        "  2 & 0 & 2 \\\\\n",
        "  0 & 1 & 1\n",
        "  \\end{pmatrix}\n",
        "  $$\n",
        "\n",
        "  a. Encuentre la transpuesta de la matriz $A$.\n",
        "\n",
        "  b. Encuentre la matriz inversa de $A$.\n",
        "  \n",
        "  c. Muestre que se cumple: \n",
        "\n",
        "  $$\n",
        "  AB = BA = I\n",
        "  $$\n",
        "\n",
        "  &nbsp;&nbsp;&nbsp; Donde $B$ es la matriz inversa de $A$ e $I$ la matriz indentidad.\n",
        "\n",
        "  d. Mediante matrices calcule el promedio de $A$."
      ]
    },
    {
      "cell_type": "code",
      "metadata": {
        "id": "PH5CQBDQw6qD"
      },
      "source": [
        ""
      ],
      "execution_count": null,
      "outputs": []
    },
    {
      "cell_type": "markdown",
      "metadata": {
        "id": "LG0sJwO0Z5uT"
      },
      "source": [
        "2. Genere las siguientes matrices:\n",
        "  \n",
        "  $$\n",
        "  C = \\begin{pmatrix}\n",
        "  2 & 4 \\\\\n",
        "  5 & -6 \n",
        "  \\end{pmatrix}\n",
        "  \\quad \\text{y}  \\quad\n",
        "  D = \\begin{pmatrix}\n",
        "  9 & -3 \\\\\n",
        "  3 &  6 \n",
        "  \\end{pmatrix}\n",
        "  $$\n",
        "\n",
        "  a. Obtenga la suma entre $C$ y $D$.\n",
        "\n",
        "  b. Obtenga el producto punto entre $C$ y $D$."
      ]
    },
    {
      "cell_type": "code",
      "metadata": {
        "id": "dPyvNhzSw7Ie"
      },
      "source": [
        ""
      ],
      "execution_count": null,
      "outputs": []
    },
    {
      "cell_type": "markdown",
      "metadata": {
        "id": "YApQ8QwlQ_QM"
      },
      "source": [
        "3. Genere una función que mutliplique (no producto punto) dos matrices."
      ]
    },
    {
      "cell_type": "code",
      "metadata": {
        "id": "jN2y9h0aw7rV"
      },
      "source": [
        ""
      ],
      "execution_count": null,
      "outputs": []
    },
    {
      "cell_type": "markdown",
      "metadata": {
        "id": "nA4L07fgRFZy"
      },
      "source": [
        "# Números Aleatorios"
      ]
    },
    {
      "cell_type": "markdown",
      "metadata": {
        "id": "_j36ebZcsGnR"
      },
      "source": [
        "**NumPy** Posee su propio generador de números seudo-aleatorios (Mersenne Twister). El generador es una función matemática que genera una secuencia de \"números aleatorios\". Considera un parámetro para comenzar la secuencia de números, llamada semilla (`seed`). La función es determinística, es decir, con la misma semilla se producirá siempre la misma secuencia de números (la elección de la semilla no importa)."
      ]
    },
    {
      "cell_type": "markdown",
      "metadata": {
        "id": "YzYQ3sPebkk4"
      },
      "source": [
        "1. Genere 10000 valores con una distribución normal estandar $\\sim N(\\mu = 0, \\sigma = 1)$.\n",
        "\n",
        "  a. A partir de los valores creados genere una matriz $E$ cuya dimensiones sea $100 \\times 100$. ¿Cuál es la diferencia entre `reshape()` y `resize()`?\n",
        "\n",
        "  b. \"Aplane\" la matriz $E$ y compruebe que efectivamente los datos se distribuyen con $\\mu = 0$ y $\\sigma = 0$."
      ]
    },
    {
      "cell_type": "code",
      "metadata": {
        "id": "nVjx8GJyw8OO"
      },
      "source": [
        ""
      ],
      "execution_count": null,
      "outputs": []
    },
    {
      "cell_type": "markdown",
      "metadata": {
        "id": "VwUjj5yORRJr"
      },
      "source": [
        "# Sistema de Ecuaciones"
      ]
    },
    {
      "cell_type": "markdown",
      "metadata": {
        "id": "BtWeSA53cCDQ"
      },
      "source": [
        "1. Use matrices para resolver los siguientes sistemas de ecuaciones:\n",
        "\n",
        "  a.\n",
        "  $$\n",
        "  \\begin{align*}\n",
        "    a + b + c = 6 \\\\\n",
        "  3a - 2b + c = 2 \\\\\n",
        "   2a + b - c = 1\n",
        "  \\end{align*}\n",
        "  $$\n",
        "\n",
        "  b.\n",
        "  $$\n",
        "  \\begin{align*}\n",
        "  3a + 4b − 5c + d = 10 \\\\\n",
        "  2a + 2b + 2c − d = 5 \\\\\n",
        "   a − b + 5c − 5d = 7 \\\\\n",
        "            5a + d = 4\n",
        "  \\end{align*}\n",
        "  $$"
      ]
    },
    {
      "cell_type": "code",
      "metadata": {
        "id": "ZfKJY73yw8ti"
      },
      "source": [
        ""
      ],
      "execution_count": null,
      "outputs": []
    }
  ]
}