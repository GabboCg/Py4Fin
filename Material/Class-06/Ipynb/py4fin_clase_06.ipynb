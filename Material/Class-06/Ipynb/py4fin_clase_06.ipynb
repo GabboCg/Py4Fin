{
  "nbformat": 4,
  "nbformat_minor": 0,
  "metadata": {
    "colab": {
      "name": "py4fin_clase_06.ipynb",
      "provenance": [],
      "collapsed_sections": [],
      "toc_visible": true
    },
    "kernelspec": {
      "name": "python3",
      "display_name": "Python 3"
    }
  },
  "cells": [
    {
      "cell_type": "markdown",
      "metadata": {
        "id": "Hcckbt6119D3"
      },
      "source": [
        "# <img src=\"https://escudouchile.files.wordpress.com/2012/07/logo-economia-u-de-chile.jpg\" height=\"250\" /> \n",
        "\n",
        "# Introducción a Python para las Finanzas\n",
        "\n",
        "## _&gt; Aplicación: Capital Asset Pricing Model (Pauta)_\n",
        "\n",
        "Gabriel E. Cabrera, M.Sc.<br>\n",
        "<span style = 'font-size: 50%;'>Universidad de Chile<br>\n",
        "Magister en Finanzas - Full Time</span>\n",
        "\n",
        "*Otoño 2021*\n",
        "\n",
        "> Explicit is better than implicit. \n",
        "<br> <div align=\"right\">— __Second Principle, Zen of Python__ </div>"
      ]
    },
    {
      "cell_type": "markdown",
      "metadata": {
        "id": "oAwGZAxDUDes"
      },
      "source": [
        "Desarrollado por William Sharpe (1964), el CAPM (*Capital Asset Pricing Model*) parte de la idea que toda inversión contiene dos tipos de riesgo: sistemático (riesgo de mercados que no se pueden diversificar) y no sistemático (componente del retorno de la acción que no correlaciona con los movimientos del mercado). la diversificación de portafolios puede remover el riesgo no sistemático, sin embargo, no es el caso para el riesgo sistemático. \n",
        "\n",
        "El CAPM es una forma de medir el riesgo sistemático. William Sharpe encuentra que el retorno de una acción o portafolio es:\n",
        "\n",
        "<br>\n",
        "$$\n",
        "R_{i,t} = R_f + \\beta_i (R_{m,t} - R_f)\n",
        "$$\n",
        "<p>\n",
        "\n",
        "Donde: \n",
        "\n",
        "* $R_{i,t}$: Retorno esperado del portafolio o acción.\n",
        "\n",
        "* $R_f$: Tasa libre de riesgo.\n",
        "\n",
        "* $R_{m,t}$: Retorno esperado del mercado. \n",
        "\n",
        "* $R_{m,t} - R_f$: *Equity market premium*\n",
        "\n",
        "* $\\beta_i$: El beta de CAPM.\n",
        "\n",
        "De acuerdo al CAPM, el $\\beta$ es la única medida relevante de riesgo, definido como:\n",
        "\n",
        "<br>\n",
        "$$\n",
        "\\beta_{i} = \\frac{cov(R_{p,t}, R_{m,t})}{\\sigma^{2}_m} \n",
        "$$\n",
        "<br>\n",
        "\n",
        "Si se considera el $\\beta$ como el segundo coeficiente de una regresión lineal simple por MCO:\n",
        "\n",
        "<br>\n",
        "$$\n",
        "R_{i,t} - R_{f} = \\alpha_{i} + \\beta_{i} (R_{m,t} - R_f) + \\varepsilon_{i,t}\n",
        "$$\n",
        "<br>\n",
        "\n",
        "Si bien el modelo anterior no es el CAPM, la regresión permite estimar el $\\beta$ de CAPM. De hecho si $\\alpha_i$ = 0 y $Cov(R_{m,t}, \\varepsilon_{i,t}) = 0$ entonces:\n",
        "\n",
        "<br>\n",
        "$$\n",
        "\\begin{aligned}\n",
        "R_{i,t} - R_{f} &= \\beta_{i} (R_{m,t} - R_f) \\\\\n",
        "R_{i,t}  &= R_{f} + \\beta_{i} (R_{m,t} - R_f)\n",
        "\\end{aligned}\n",
        "$$\n",
        "\n",
        "Se obtiene la ecuación de CAPM.\n"
      ]
    },
    {
      "cell_type": "markdown",
      "metadata": {
        "id": "O-87kCC2CyUi"
      },
      "source": [
        "# Aplicación"
      ]
    },
    {
      "cell_type": "markdown",
      "metadata": {
        "id": "0H8x3ayymh5X"
      },
      "source": [
        "1. Importe los archivos `stocks.pkl`, `sp500.pkl` y `rfree.pkl`.\n",
        "\n",
        "  * `stocks.pkl`: índices de Facebook, Apple, Amazon, Netflix y Google desde 2014:12 hasta 2020:12.\n",
        "\n",
        "  * `sp500.pkl`: Precio al cierre del índice del S&P 500 desde 2014:12 hasta 2020:12.\n",
        "\n",
        "  * `rfree.pkl`: Tasa libre de riesgo desde 2015:01 hasta 2020:12."
      ]
    },
    {
      "cell_type": "code",
      "metadata": {
        "id": "zY9h8rji6b9t"
      },
      "source": [
        "!wget -O stocks.pkl https://www.dropbox.com/s/l1yn722m5qsul5z/stocks_colab.pkl?dl=0\n",
        "\n",
        "!wget -O sp500.pkl https://www.dropbox.com/s/jnxr6itswrkcqle/sp500_colab.pkl?dl=0\n",
        "\n",
        "!wget -O rfree.pkl https://www.dropbox.com/s/644s5d92xnotj9e/rfree_colab.pkl?dl=0"
      ],
      "execution_count": null,
      "outputs": []
    },
    {
      "cell_type": "code",
      "metadata": {
        "id": "MX8F8gInmwPv"
      },
      "source": [
        "import numpy as np\n",
        "import pandas as pd \n",
        "\n",
        "# carga índices\n",
        "stocks = pd.read_pickle('stocks.pkl')\n",
        "\n",
        "# carga s&p 500\n",
        "sp500 = pd.read_pickle('sp500.pkl')\n",
        "\n",
        "# tasa libre de riesgo\n",
        "Rf = pd.read_pickle('rfree.pkl')"
      ],
      "execution_count": null,
      "outputs": []
    },
    {
      "cell_type": "markdown",
      "metadata": {
        "id": "SExPYA-YmwV2"
      },
      "source": [
        "2. Genere una función que permita calcular el retorno aritmético, definido como:\n",
        "\n",
        "$$\n",
        "R_{i,t} = \\frac{P_{i,t} - P_{i,t-1}}{P_{i,t-1}} \\quad i = 1,..,5 \\quad t = 1,..,73\n",
        "$$"
      ]
    },
    {
      "cell_type": "code",
      "metadata": {
        "id": "QBPAGmt89Tpm"
      },
      "source": [
        ""
      ],
      "execution_count": null,
      "outputs": []
    },
    {
      "cell_type": "markdown",
      "metadata": {
        "id": "WBMb2jS2naDM"
      },
      "source": [
        "3. Aplique la función creada en (2) a cada elemento (precios al cierre) almacenado en el diccionario."
      ]
    },
    {
      "cell_type": "code",
      "metadata": {
        "id": "hpA6YQ2rn7C_"
      },
      "source": [
        ""
      ],
      "execution_count": null,
      "outputs": []
    },
    {
      "cell_type": "markdown",
      "metadata": {
        "id": "DEi8blIln7MT"
      },
      "source": [
        "4. Aplique la función creada en (2) al índice del S&P 500. Luego reste la tasa libre de riesgo.\n",
        "\n",
        "$$\n",
        "R_{m,t} = R_{sp500} - R_f\n",
        "$$"
      ]
    },
    {
      "cell_type": "code",
      "metadata": {
        "id": "4nmt4l1NoMmA"
      },
      "source": [
        ""
      ],
      "execution_count": null,
      "outputs": []
    },
    {
      "cell_type": "markdown",
      "metadata": {
        "id": "zNnz7gnDoMvZ"
      },
      "source": [
        "5. Genere una función que permita ponderar cada retorno por un peso fijo. Los pesos deben sumar 1 y el *output* debe tener restada la tasa libre de riesgo $R_f$.\n",
        "\n",
        "  $$\n",
        "  \\begin{aligned}\n",
        "  R_{p,t} & = \\mathbf{R}\\cdot \\mathbf{W} = \\begin{pmatrix}\n",
        "  r_{11} & r_{12} & \\dots  & r_{1i} \\\\\n",
        "  r_{21} & r_{22} & \\dots  & r_{2i} \\\\\n",
        "  \\vdots & \\vdots & \\vdots & \\vdots \\\\\n",
        "  r_{t1} & r_{t2} & \\dots  & r_{ti}\n",
        "  \\end{pmatrix}_{t\\times i} \\cdot \\begin{pmatrix}\n",
        "  w_{1}  \\\\ \n",
        "  w_{2}  \\\\\n",
        "  \\vdots \\\\\n",
        "  w_{i}  \\\\\n",
        "  \\end{pmatrix}_{i \\times 1}\n",
        "  \\end{aligned}\n",
        "  $$\n",
        "\n",
        "  Pruebe su función con los siguientes pesos:\n",
        "\n",
        "| Índice | Pesos |\n",
        "|--------|-------|\n",
        "| AAPL   | 0.25  |\n",
        "| AMZN   | 0.25  |\n",
        "| FB     | 0.20  |\n",
        "| GOOG   | 0.20  |\n",
        "| NFLX   | 0.10  |"
      ]
    },
    {
      "cell_type": "code",
      "metadata": {
        "id": "yiuMxmdurB6h"
      },
      "source": [
        " "
      ],
      "execution_count": null,
      "outputs": []
    },
    {
      "cell_type": "markdown",
      "metadata": {
        "id": "ArQ6QEJTq-5_"
      },
      "source": [
        "6. Genere una función que permita obtener los $\\hat{\\beta}$ de una regresión lineal mediante su forma matricial:\n",
        "\n",
        "$$\n",
        "\\hat{\\beta} = (\\mathbf{X}'\\mathbf{X})^{-1}(\\mathbf{X}'y) \n",
        "$$"
      ]
    },
    {
      "cell_type": "code",
      "metadata": {
        "id": "vSILD1t1q_Iq"
      },
      "source": [
        ""
      ],
      "execution_count": null,
      "outputs": []
    },
    {
      "cell_type": "markdown",
      "metadata": {
        "id": "pgbA6sYJr3BG"
      },
      "source": [
        "7. Muestre que el resultado anterior es igual a:\n",
        "\n",
        "$$\n",
        "{\\hat{\\beta}} = \\frac{cov(R_{p,t}, R_{m,t})}{\\sigma^{2}_m} \n",
        "$$"
      ]
    },
    {
      "cell_type": "code",
      "metadata": {
        "id": "jjmA5STvr3Pn"
      },
      "source": [
        ""
      ],
      "execution_count": null,
      "outputs": []
    },
    {
      "cell_type": "markdown",
      "metadata": {
        "id": "8gUgetg6sKr2"
      },
      "source": [
        "8. Verifique el resultado obtenido en (6) utilizando la librería `statsmodels`."
      ]
    },
    {
      "cell_type": "code",
      "metadata": {
        "id": "vvMxxafBsK_k"
      },
      "source": [
        ""
      ],
      "execution_count": null,
      "outputs": []
    }
  ]
}