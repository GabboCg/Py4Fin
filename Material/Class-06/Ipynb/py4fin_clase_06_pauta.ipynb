{
  "nbformat": 4,
  "nbformat_minor": 0,
  "metadata": {
    "colab": {
      "name": "py4fin_clase_06_pauta.ipynb",
      "provenance": [],
      "collapsed_sections": [],
      "toc_visible": true
    },
    "kernelspec": {
      "name": "python3",
      "display_name": "Python 3"
    }
  },
  "cells": [
    {
      "cell_type": "markdown",
      "metadata": {
        "id": "Hcckbt6119D3"
      },
      "source": [
        "# <img src=\"https://escudouchile.files.wordpress.com/2012/07/logo-economia-u-de-chile.jpg\" height=\"250\" /> \n",
        "\n",
        "# Introducción a Python para las Finanzas\n",
        "\n",
        "## _&gt; Aplicación: Capital Asset Pricing Model (Pauta)_\n",
        "\n",
        "Gabriel E. Cabrera, M.Sc.<br>\n",
        "<span style = 'font-size: 50%;'>Universidad de Chile<br>\n",
        "Magister en Finanzas - Full Time</span>\n",
        "\n",
        "*Otoño 2021*\n",
        "\n",
        "> Explicit is better than implicit. \n",
        "<br> <div align=\"right\">— __Second Principle, Zen of Python__ </div>"
      ]
    },
    {
      "cell_type": "markdown",
      "metadata": {
        "id": "oAwGZAxDUDes"
      },
      "source": [
        "Desarrollado por William Sharpe (1964), el CAPM (*Capital Asset Pricing Model*) parte de la idea que toda inversión contiene dos tipos de riesgo: sistemático (riesgo de mercados que no se pueden diversificar) y no sistemático (componente del retorno de la acción que no correlaciona con los movimientos del mercado). la diversificación de portafolios puede remover el riesgo no sistemático, sin embargo, no es el caso para el riesgo sistemático. \n",
        "\n",
        "El CAPM es una forma de medir el riesgo sistemático. William Sharpe encuentra que el retorno de una acción o portafolio es:\n",
        "\n",
        "<br>\n",
        "$$\n",
        "R_{i,t} = R_f + \\beta_i (R_{m,t} - R_f)\n",
        "$$\n",
        "<p>\n",
        "\n",
        "Donde: \n",
        "\n",
        "* $R_{i,t}$: Retorno esperado del portafolio o acción.\n",
        "\n",
        "* $R_f$: Tasa libre de riesgo.\n",
        "\n",
        "* $R_{m,t}$: Retorno esperado del mercado. \n",
        "\n",
        "* $R_{m,t} - R_f$: *Equity market premium*\n",
        "\n",
        "* $\\beta_i$: El beta de CAPM.\n",
        "\n",
        "De acuerdo al CAPM, el $\\beta$ es la única medida relevante de riesgo, definido como:\n",
        "\n",
        "<br>\n",
        "$$\n",
        "\\beta_{i} = \\frac{cov(R_{p,t}, R_{m,t})}{\\sigma^{2}_m} \n",
        "$$\n",
        "<br>\n",
        "\n",
        "Si se considera el $\\beta$ como el segundo coeficiente de una regresión lineal simple por MCO:\n",
        "\n",
        "<br>\n",
        "$$\n",
        "R_{i,t} - R_{f} = \\alpha_{i} + \\beta_{i} (R_{m,t} - R_f) + \\varepsilon_{i,t}\n",
        "$$\n",
        "<br>\n",
        "\n",
        "Si bien el modelo anterior no es el CAPM, la regresión permite estimar el $\\beta$ de CAPM. De hecho si $\\alpha_i$ = 0 y $Cov(R_{m,t}, \\varepsilon_{i,t}) = 0$ entonces:\n",
        "\n",
        "<br>\n",
        "$$\n",
        "\\begin{aligned}\n",
        "R_{i,t} - R_{f} &= \\beta_{i} (R_{m,t} - R_f) \\\\\n",
        "R_{i,t}  &= R_{f} + \\beta_{i} (R_{m,t} - R_f)\n",
        "\\end{aligned}\n",
        "$$\n",
        "\n",
        "Se obtiene la ecuación de CAPM.\n"
      ]
    },
    {
      "cell_type": "markdown",
      "metadata": {
        "id": "BTuoBzm4CrCX"
      },
      "source": [
        "# Aplicación"
      ]
    },
    {
      "cell_type": "markdown",
      "metadata": {
        "id": "0H8x3ayymh5X"
      },
      "source": [
        "1. Importe los archivos `stocks.pkl`, `sp500.pkl` y `rfree.pkl`.\n",
        "\n",
        "  * `stocks.pkl`: índices de Facebook, Apple, Amazon, Netflix y Google desde 2014:12 hasta 2020:12.\n",
        "\n",
        "  * `sp500.pkl`: Precio al cierre del índice del S&P 500 desde 2014:12 hasta 2020:12.\n",
        "\n",
        "  * `rfree.pkl`: Tasa libre de riesgo desde 2015:01 hasta 2020:12."
      ]
    },
    {
      "cell_type": "code",
      "metadata": {
        "id": "zY9h8rji6b9t",
        "colab": {
          "base_uri": "https://localhost:8080/"
        },
        "outputId": "82eaec0c-084d-4b06-a7e3-c00730ab1185"
      },
      "source": [
        "!wget -O stocks.pkl https://www.dropbox.com/s/l1yn722m5qsul5z/stocks_colab.pkl?dl=0\n",
        "\n",
        "!wget -O sp500.pkl https://www.dropbox.com/s/jnxr6itswrkcqle/sp500_colab.pkl?dl=0\n",
        "\n",
        "!wget -O rfree.pkl https://www.dropbox.com/s/644s5d92xnotj9e/rfree_colab.pkl?dl=0"
      ],
      "execution_count": null,
      "outputs": [
        {
          "output_type": "stream",
          "text": [
            "--2021-03-31 15:39:52--  https://www.dropbox.com/s/l1yn722m5qsul5z/stocks_colab.pkl?dl=0\n",
            "Resolving www.dropbox.com (www.dropbox.com)... 162.125.6.18, 2620:100:6019:18::a27d:412\n",
            "Connecting to www.dropbox.com (www.dropbox.com)|162.125.6.18|:443... connected.\n",
            "HTTP request sent, awaiting response... 301 Moved Permanently\n",
            "Location: /s/raw/l1yn722m5qsul5z/stocks_colab.pkl [following]\n",
            "--2021-03-31 15:39:53--  https://www.dropbox.com/s/raw/l1yn722m5qsul5z/stocks_colab.pkl\n",
            "Reusing existing connection to www.dropbox.com:443.\n",
            "HTTP request sent, awaiting response... 302 Found\n",
            "Location: https://ucdbdcebafbf377b0206ba4175fd.dl.dropboxusercontent.com/cd/0/inline/BLveMBfRP-Bt7FxFJIPGnOfwMNVkkMJIfNrZpK-KN8I9cNxwAK0rsAk18A4-a8krfdtWZJzrRiC-m-K84k32h5s_m1YXKRdMKFuAdwK1it3DWCY0eOxotK88JIHyeAwB6xZ-CZTpoN0Y3Y8_xxBvfMuc/file# [following]\n",
            "--2021-03-31 15:39:53--  https://ucdbdcebafbf377b0206ba4175fd.dl.dropboxusercontent.com/cd/0/inline/BLveMBfRP-Bt7FxFJIPGnOfwMNVkkMJIfNrZpK-KN8I9cNxwAK0rsAk18A4-a8krfdtWZJzrRiC-m-K84k32h5s_m1YXKRdMKFuAdwK1it3DWCY0eOxotK88JIHyeAwB6xZ-CZTpoN0Y3Y8_xxBvfMuc/file\n",
            "Resolving ucdbdcebafbf377b0206ba4175fd.dl.dropboxusercontent.com (ucdbdcebafbf377b0206ba4175fd.dl.dropboxusercontent.com)... 162.125.6.15, 2620:100:601c:15::a27d:60f\n",
            "Connecting to ucdbdcebafbf377b0206ba4175fd.dl.dropboxusercontent.com (ucdbdcebafbf377b0206ba4175fd.dl.dropboxusercontent.com)|162.125.6.15|:443... connected.\n",
            "HTTP request sent, awaiting response... 302 Found\n",
            "Location: /cd/0/inline2/BLsMRPgUAi6ADg8hw7hGBT-pFm25iC8TYVkiKS7krpeYCc6yD8w3go3w8ZZQFi8g-7ajOzRKD0Qkf9vS10qd8KJ_aOTsGoIgzI2D1YmQVYjmMv939hm6_V5CeInQJTlv3omMhwX1ZKmBhyNTXuXoNd3mWZ1f3PkGySkgC5IMZtysTzwvqqiCAVDq4pSqhCZ7byezwHRhomPdMBJlnSVPLVNL0vNnqxsgDPRhieqijvE49Tv0NDFoFWnIpJp-cQbw70t59antRslNd96e_zGs_7Q5wNYhfHuL7Y2BrPsyyNhSGRwxz4d1RWKCwJSQbntziCWdzw58BMCA3fC8RLaOwugBmB3c5EvzojRnuF-I7iuRtvcq8QN9HEtvo1f1GSXml5g/file [following]\n",
            "--2021-03-31 15:39:53--  https://ucdbdcebafbf377b0206ba4175fd.dl.dropboxusercontent.com/cd/0/inline2/BLsMRPgUAi6ADg8hw7hGBT-pFm25iC8TYVkiKS7krpeYCc6yD8w3go3w8ZZQFi8g-7ajOzRKD0Qkf9vS10qd8KJ_aOTsGoIgzI2D1YmQVYjmMv939hm6_V5CeInQJTlv3omMhwX1ZKmBhyNTXuXoNd3mWZ1f3PkGySkgC5IMZtysTzwvqqiCAVDq4pSqhCZ7byezwHRhomPdMBJlnSVPLVNL0vNnqxsgDPRhieqijvE49Tv0NDFoFWnIpJp-cQbw70t59antRslNd96e_zGs_7Q5wNYhfHuL7Y2BrPsyyNhSGRwxz4d1RWKCwJSQbntziCWdzw58BMCA3fC8RLaOwugBmB3c5EvzojRnuF-I7iuRtvcq8QN9HEtvo1f1GSXml5g/file\n",
            "Reusing existing connection to ucdbdcebafbf377b0206ba4175fd.dl.dropboxusercontent.com:443.\n",
            "HTTP request sent, awaiting response... 200 OK\n",
            "Length: 3249 (3.2K) [application/octet-stream]\n",
            "Saving to: ‘stocks.pkl’\n",
            "\n",
            "stocks.pkl          100%[===================>]   3.17K  --.-KB/s    in 0s      \n",
            "\n",
            "2021-03-31 15:39:54 (487 MB/s) - ‘stocks.pkl’ saved [3249/3249]\n",
            "\n",
            "--2021-03-31 15:39:54--  https://www.dropbox.com/s/jnxr6itswrkcqle/sp500_colab.pkl?dl=0\n",
            "Resolving www.dropbox.com (www.dropbox.com)... 162.125.6.18, 2620:100:6019:18::a27d:412\n",
            "Connecting to www.dropbox.com (www.dropbox.com)|162.125.6.18|:443... connected.\n",
            "HTTP request sent, awaiting response... 301 Moved Permanently\n",
            "Location: /s/raw/jnxr6itswrkcqle/sp500_colab.pkl [following]\n",
            "--2021-03-31 15:39:54--  https://www.dropbox.com/s/raw/jnxr6itswrkcqle/sp500_colab.pkl\n",
            "Reusing existing connection to www.dropbox.com:443.\n",
            "HTTP request sent, awaiting response... 302 Found\n",
            "Location: https://uca4112807af532db7910248b13f.dl.dropboxusercontent.com/cd/0/inline/BLsTSA5TAvLP5LQiNKYUqNbmATu90ST19IPZoQBaEAZ1_pdD4nb-VL42ZZmNt8aZa8jjTwUE1TAV-DdAS9uEPFoXNCeNXfGbRj-Fo-De77CPhx6UqnZlctfBOF7zTrnz-kODB_fZq9XF3dnRs9a8-TTb/file# [following]\n",
            "--2021-03-31 15:39:54--  https://uca4112807af532db7910248b13f.dl.dropboxusercontent.com/cd/0/inline/BLsTSA5TAvLP5LQiNKYUqNbmATu90ST19IPZoQBaEAZ1_pdD4nb-VL42ZZmNt8aZa8jjTwUE1TAV-DdAS9uEPFoXNCeNXfGbRj-Fo-De77CPhx6UqnZlctfBOF7zTrnz-kODB_fZq9XF3dnRs9a8-TTb/file\n",
            "Resolving uca4112807af532db7910248b13f.dl.dropboxusercontent.com (uca4112807af532db7910248b13f.dl.dropboxusercontent.com)... 162.125.6.15, 2620:100:601c:15::a27d:60f\n",
            "Connecting to uca4112807af532db7910248b13f.dl.dropboxusercontent.com (uca4112807af532db7910248b13f.dl.dropboxusercontent.com)|162.125.6.15|:443... connected.\n",
            "HTTP request sent, awaiting response... 302 Found\n",
            "Location: /cd/0/inline2/BLuN_QqpRGWrjtQox7e4EwcHBkURJ0jqsLvjYKArmYs0NrQtHaFxQ3TMUOzClJ2CMMINi8qKv2LW9FSeQa6UbOWjJaZxfDFseT3PvLbUwwbnHaVWuph7j0-sioQ7Zf_xAwQzR-j1U7eWnfLXhKRwIhFlhbobGAl5c9qlpQGyCf4hVRP_m1HBRG8UfL8mPdACjheHCu_9yT1IqpEKBm_EzaLpJG2iseqt_fzmwuwaxLowk7u9bNipyuKtyhvpK4Ix8q5g0EkAmrmLmkQhSCTs2O4Eww8MV7SRebQUcX1k_eRyQEaUSQFi0p2b_ys0Qsiaf2C9taIpSxXlC0B9_emTieECPGPhkfpjH9CH8rhQjCH9AHLG7ilf_AdsF_Y4aZr_sxA/file [following]\n",
            "--2021-03-31 15:39:55--  https://uca4112807af532db7910248b13f.dl.dropboxusercontent.com/cd/0/inline2/BLuN_QqpRGWrjtQox7e4EwcHBkURJ0jqsLvjYKArmYs0NrQtHaFxQ3TMUOzClJ2CMMINi8qKv2LW9FSeQa6UbOWjJaZxfDFseT3PvLbUwwbnHaVWuph7j0-sioQ7Zf_xAwQzR-j1U7eWnfLXhKRwIhFlhbobGAl5c9qlpQGyCf4hVRP_m1HBRG8UfL8mPdACjheHCu_9yT1IqpEKBm_EzaLpJG2iseqt_fzmwuwaxLowk7u9bNipyuKtyhvpK4Ix8q5g0EkAmrmLmkQhSCTs2O4Eww8MV7SRebQUcX1k_eRyQEaUSQFi0p2b_ys0Qsiaf2C9taIpSxXlC0B9_emTieECPGPhkfpjH9CH8rhQjCH9AHLG7ilf_AdsF_Y4aZr_sxA/file\n",
            "Reusing existing connection to uca4112807af532db7910248b13f.dl.dropboxusercontent.com:443.\n",
            "HTTP request sent, awaiting response... 200 OK\n",
            "Length: 736 [application/octet-stream]\n",
            "Saving to: ‘sp500.pkl’\n",
            "\n",
            "sp500.pkl           100%[===================>]     736  --.-KB/s    in 0s      \n",
            "\n",
            "2021-03-31 15:39:55 (125 MB/s) - ‘sp500.pkl’ saved [736/736]\n",
            "\n",
            "--2021-03-31 15:39:55--  https://www.dropbox.com/s/644s5d92xnotj9e/rfree_colab.pkl?dl=0\n",
            "Resolving www.dropbox.com (www.dropbox.com)... 162.125.6.18, 2620:100:6019:18::a27d:412\n",
            "Connecting to www.dropbox.com (www.dropbox.com)|162.125.6.18|:443... connected.\n",
            "HTTP request sent, awaiting response... 301 Moved Permanently\n",
            "Location: /s/raw/644s5d92xnotj9e/rfree_colab.pkl [following]\n",
            "--2021-03-31 15:39:55--  https://www.dropbox.com/s/raw/644s5d92xnotj9e/rfree_colab.pkl\n",
            "Reusing existing connection to www.dropbox.com:443.\n",
            "HTTP request sent, awaiting response... 302 Found\n",
            "Location: https://uca2f94426cd1311fecedae13c2e.dl.dropboxusercontent.com/cd/0/inline/BLv7_uWD5dKaAdLJFB_6cYCpa6S7bx0Cct4OuwbhVaJ7R_6KLaYyeXtwISHtUJ4LnU25DYcymXG-LkM_5u0WsIxT9-lXwJ_1AIXX67tlYu82n2ijyRiJGTleY-GZX1jvsNr3HKFXWKET2wAn7A7xX4Ow/file# [following]\n",
            "--2021-03-31 15:39:56--  https://uca2f94426cd1311fecedae13c2e.dl.dropboxusercontent.com/cd/0/inline/BLv7_uWD5dKaAdLJFB_6cYCpa6S7bx0Cct4OuwbhVaJ7R_6KLaYyeXtwISHtUJ4LnU25DYcymXG-LkM_5u0WsIxT9-lXwJ_1AIXX67tlYu82n2ijyRiJGTleY-GZX1jvsNr3HKFXWKET2wAn7A7xX4Ow/file\n",
            "Resolving uca2f94426cd1311fecedae13c2e.dl.dropboxusercontent.com (uca2f94426cd1311fecedae13c2e.dl.dropboxusercontent.com)... 162.125.6.15, 2620:100:601c:15::a27d:60f\n",
            "Connecting to uca2f94426cd1311fecedae13c2e.dl.dropboxusercontent.com (uca2f94426cd1311fecedae13c2e.dl.dropboxusercontent.com)|162.125.6.15|:443... connected.\n",
            "HTTP request sent, awaiting response... 302 Found\n",
            "Location: /cd/0/inline2/BLupcuINxWBLpXnhXGq7mUfxIFoB9amlx9aPfcUEYFHaikMhDKw-Wqd0yt8hJGbfkHwKLvvdLDhnas-3dohRGBYXl9ebe2jTpC1S9f4YgxliEdYB8Hj1kksX_REUwoJ29uVe6BFl-DJ3N39lsWA73qaxTpKE1oOG6lIL32smnKD0-eEcBp0Y1LLyhzqPjYVYGx8xjRvmGzdEZdIUFD9-sqeSWq83JAUThHHyELcDgW-twZjpxlMwSwi9SwWBXHkVa1UXVRKEHgRPVFfh3JhW0ZC8r44dWNEtTdcQvhGl4kwuIqiRIZKPqoLS07aepf66KYnhinGkHS3ySkYz3YgJ9wca053huMeJfF6N8Prdv1Dso9Y-ayXCQ7YnmVb9qKBO8H0/file [following]\n",
            "--2021-03-31 15:39:56--  https://uca2f94426cd1311fecedae13c2e.dl.dropboxusercontent.com/cd/0/inline2/BLupcuINxWBLpXnhXGq7mUfxIFoB9amlx9aPfcUEYFHaikMhDKw-Wqd0yt8hJGbfkHwKLvvdLDhnas-3dohRGBYXl9ebe2jTpC1S9f4YgxliEdYB8Hj1kksX_REUwoJ29uVe6BFl-DJ3N39lsWA73qaxTpKE1oOG6lIL32smnKD0-eEcBp0Y1LLyhzqPjYVYGx8xjRvmGzdEZdIUFD9-sqeSWq83JAUThHHyELcDgW-twZjpxlMwSwi9SwWBXHkVa1UXVRKEHgRPVFfh3JhW0ZC8r44dWNEtTdcQvhGl4kwuIqiRIZKPqoLS07aepf66KYnhinGkHS3ySkYz3YgJ9wca053huMeJfF6N8Prdv1Dso9Y-ayXCQ7YnmVb9qKBO8H0/file\n",
            "Reusing existing connection to uca2f94426cd1311fecedae13c2e.dl.dropboxusercontent.com:443.\n",
            "HTTP request sent, awaiting response... 200 OK\n",
            "Length: 728 [application/octet-stream]\n",
            "Saving to: ‘rfree.pkl’\n",
            "\n",
            "rfree.pkl           100%[===================>]     728  --.-KB/s    in 0s      \n",
            "\n",
            "2021-03-31 15:39:56 (289 MB/s) - ‘rfree.pkl’ saved [728/728]\n",
            "\n"
          ],
          "name": "stdout"
        }
      ]
    },
    {
      "cell_type": "code",
      "metadata": {
        "id": "MX8F8gInmwPv"
      },
      "source": [
        "import numpy as np\n",
        "import pandas as pd \n",
        "\n",
        "# carga índices\n",
        "stocks = pd.read_pickle('stocks.pkl')\n",
        "\n",
        "# carga s&p 500\n",
        "sp500 = pd.read_pickle('sp500.pkl')\n",
        "\n",
        "# tasa libre de riesgo\n",
        "Rf = pd.read_pickle('rfree.pkl')"
      ],
      "execution_count": null,
      "outputs": []
    },
    {
      "cell_type": "markdown",
      "metadata": {
        "id": "SExPYA-YmwV2"
      },
      "source": [
        "2. Genere una función que permita calcular el retorno aritmético, definido como:\n",
        "\n",
        "$$\n",
        "R_{i,t} = \\frac{P_{i,t} - P_{i,t-1}}{P_{i,t-1}} \\quad i = 1,..,5 \\quad t = 1,..,73\n",
        "$$"
      ]
    },
    {
      "cell_type": "code",
      "metadata": {
        "id": "mMdq96-2nZ7B"
      },
      "source": [
        "# se crea la función\n",
        "def returns(x):\n",
        "  \n",
        "    '''\n",
        "    Parameters\n",
        "    ----------\n",
        "    x : Array de dimensión tx1\n",
        "  \n",
        "    Returns\n",
        "    -------\n",
        "    Retorno aritmético de dimensión (t-1)x1\n",
        "    '''\n",
        "\n",
        "    arithmetic_return = np.diff(x, axis = 0) / x[:-1]\n",
        "    return(arithmetic_return)"
      ],
      "execution_count": null,
      "outputs": []
    },
    {
      "cell_type": "markdown",
      "metadata": {
        "id": "WBMb2jS2naDM"
      },
      "source": [
        "3. Aplique la función creada en (2) a cada elemento (precios al cierre) almacenado en el diccionario."
      ]
    },
    {
      "cell_type": "code",
      "metadata": {
        "id": "hpA6YQ2rn7C_",
        "colab": {
          "base_uri": "https://localhost:8080/"
        },
        "outputId": "0d4ba016-fca7-4b7d-a66e-68bc9f8434a7"
      },
      "source": [
        "# diccionario vacio\n",
        "dict_return = {}\n",
        "\n",
        "for ticker, close in stocks.items():\n",
        "    print('Calculando retorno de ticker: ', ticker)\n",
        "    dict_return[ticker] = returns(close)"
      ],
      "execution_count": null,
      "outputs": [
        {
          "output_type": "stream",
          "text": [
            "Calculando retorno de ticker:  AAPL\n",
            "Calculando retorno de ticker:  AMZN\n",
            "Calculando retorno de ticker:  FB\n",
            "Calculando retorno de ticker:  GOOG\n",
            "Calculando retorno de ticker:  NFLX\n"
          ],
          "name": "stdout"
        }
      ]
    },
    {
      "cell_type": "markdown",
      "metadata": {
        "id": "DEi8blIln7MT"
      },
      "source": [
        "4. Aplique la función creada en (2) al índice del S&P 500. Luego reste la tasa libre de riesgo.\n",
        "\n",
        "$$\n",
        "R_{m,t} = R_{sp500} - R_f\n",
        "$$"
      ]
    },
    {
      "cell_type": "code",
      "metadata": {
        "id": "4nmt4l1NoMmA"
      },
      "source": [
        "# retorno de mercado\n",
        "Rm = returns(sp500)\n",
        "\n",
        "# risk premium\n",
        "Rm_Rf = Rm - Rf"
      ],
      "execution_count": null,
      "outputs": []
    },
    {
      "cell_type": "markdown",
      "metadata": {
        "id": "zNnz7gnDoMvZ"
      },
      "source": [
        "5. Genere una función que permita ponderar cada retorno por un peso fijo. Los pesos deben sumar 1 y el *output* debe tener restada la tasa libre de riesgo $R_f$.\n",
        "\n",
        "  $$\n",
        "  \\begin{aligned}\n",
        "  R_{p,t} & = \\mathbf{R}\\cdot \\mathbf{W} = \\begin{pmatrix}\n",
        "  r_{11} & r_{12} & \\dots  & r_{1i} \\\\\n",
        "  r_{21} & r_{22} & \\dots  & r_{2i} \\\\\n",
        "  \\vdots & \\vdots & \\vdots & \\vdots \\\\\n",
        "  r_{t1} & r_{t2} & \\dots  & r_{ti}\n",
        "  \\end{pmatrix}_{t\\times i} \\cdot \\begin{pmatrix}\n",
        "  w_{1}  \\\\ \n",
        "  w_{2}  \\\\\n",
        "  \\vdots \\\\\n",
        "  w_{i}  \\\\\n",
        "  \\end{pmatrix}_{i \\times 1}\n",
        "  \\end{aligned}\n",
        "  $$\n",
        "\n",
        "  Pruebe su función con los siguientes pesos:\n",
        "\n",
        "| Índice | Pesos |\n",
        "|--------|-------|\n",
        "| AAPL   | 0.25  |\n",
        "| AMZN   | 0.25  |\n",
        "| FB     | 0.20  |\n",
        "| GOOG   | 0.20  |\n",
        "| NFLX   | 0.10  |"
      ]
    },
    {
      "cell_type": "code",
      "metadata": {
        "id": "yiuMxmdurB6h"
      },
      "source": [
        "# pesos (suman 1)\n",
        "w = np.array([0.25, 0.25, 0.20, 0.20, 0.10]).reshape((-1,1))\n",
        "\n",
        "# se crea la función\n",
        "def portfolio(x, w, rf):\n",
        "\n",
        "    '''\n",
        "    Parameters\n",
        "    ----------\n",
        "    x : Diccionario que contiene i arrays de dimensión t1\n",
        "    w : Pesos de dimensión i1\n",
        "    rf: Tasa libre de riesgo de dimensión t1\n",
        "    \n",
        "    Returns\n",
        "    -------\n",
        "    Portafolio ponderado de dimensión t1\n",
        "    '''\n",
        "\n",
        "    ret_list = []\n",
        "    \n",
        "    for name, r_i in x.items():\n",
        "        ret_list.append(r_i)\n",
        "        \n",
        "    ret_mat = np.concatenate(ret_list, axis=1)\n",
        "    rp = ret_mat.dot(w) - rf\n",
        "    \n",
        "    return(rp)\n",
        "\n",
        "# exceso de retorno\n",
        "Rp_Rf = portfolio(dict_return, w, Rf)   "
      ],
      "execution_count": null,
      "outputs": []
    },
    {
      "cell_type": "markdown",
      "metadata": {
        "id": "ArQ6QEJTq-5_"
      },
      "source": [
        "6. Genere una función que permita obtener los $\\hat{\\beta}$ de una regresión lineal mediante su forma matricial:\n",
        "\n",
        "$$\n",
        "\\hat{\\beta} = (\\mathbf{X}'\\mathbf{X})^{-1}(\\mathbf{X}'y) \n",
        "$$"
      ]
    },
    {
      "cell_type": "code",
      "metadata": {
        "id": "vSILD1t1q_Iq",
        "colab": {
          "base_uri": "https://localhost:8080/"
        },
        "outputId": "0625bb23-8ae7-44c8-ae08-ba14777de8e0"
      },
      "source": [
        "# se crea la función\n",
        "def ols(x,y):\n",
        "\n",
        "    '''\n",
        "    Parameters\n",
        "    ----------\n",
        "    x : matriz ti (Rm - Rf)\n",
        "    y : matriz ti (Rp - Rf)\n",
        "    \n",
        "    Returns\n",
        "    -------\n",
        "    Alfa y Beta \n",
        "    '''\n",
        "    \n",
        "    m,n = x.shape\n",
        "    \n",
        "    x_with_ones = np.hstack((np.ones((m,1)),x))\n",
        "    \n",
        "    x_t_x = x_with_ones.T.dot(x_with_ones)\n",
        "    inv_x_t_x = np.linalg.inv(x_t_x)\n",
        "    \n",
        "    betas = inv_x_t_x.dot(x_with_ones.T.dot(y))\n",
        "    \n",
        "    return(betas)\n",
        "\n",
        "# parámetros\n",
        "ols(Rm_Rf,Rp_Rf)"
      ],
      "execution_count": null,
      "outputs": [
        {
          "output_type": "execute_result",
          "data": {
            "text/plain": [
              "array([[0.0172864 ],\n",
              "       [1.12976075]])"
            ]
          },
          "metadata": {
            "tags": []
          },
          "execution_count": 7
        }
      ]
    },
    {
      "cell_type": "markdown",
      "metadata": {
        "id": "pgbA6sYJr3BG"
      },
      "source": [
        "7. Muestre que el resultado anterior es igual a:\n",
        "\n",
        "$$\n",
        "{\\hat{\\beta}} = \\frac{cov(R_{p,t}, R_{m,t})}{\\sigma^{2}_m} \n",
        "$$"
      ]
    },
    {
      "cell_type": "code",
      "metadata": {
        "id": "jjmA5STvr3Pn",
        "colab": {
          "base_uri": "https://localhost:8080/"
        },
        "outputId": "8e05b3b5-82ce-484a-a172-dc124236f3ed"
      },
      "source": [
        "# beta portfolio\n",
        "cov_var_mat = np.cov(np.concatenate([Rp_Rf,Rm_Rf], axis = 1), rowvar=False) \n",
        "\n",
        "print('El Beta de CAPM es: ', cov_var_mat[0,1] / cov_var_mat[1,1])"
      ],
      "execution_count": null,
      "outputs": [
        {
          "output_type": "stream",
          "text": [
            "El Beta de CAPM es:  1.1297607468830586\n"
          ],
          "name": "stdout"
        }
      ]
    },
    {
      "cell_type": "markdown",
      "metadata": {
        "id": "8gUgetg6sKr2"
      },
      "source": [
        "8. Verifique el resultado obtenido en (6) utilizando la librería `statsmodels`."
      ]
    },
    {
      "cell_type": "code",
      "metadata": {
        "id": "vvMxxafBsK_k",
        "colab": {
          "base_uri": "https://localhost:8080/"
        },
        "outputId": "c6c0a1ff-7d3f-4210-b79a-77fe7567c1ff"
      },
      "source": [
        "import statsmodels.api as sm\n",
        "\n",
        "# añade columna de 1\n",
        "Rm_Rf_with_const = sm.add_constant(Rm_Rf)\n",
        "\n",
        "# estimación por OLS\n",
        "mod = sm.OLS(Rp_Rf,Rm_Rf_with_const)\n",
        "# ajuste del modelo\n",
        "res = mod.fit()\n",
        "\n",
        "# resultado\n",
        "print(res.summary(res))\n",
        "\n",
        "# parámetros\n",
        "res.params"
      ],
      "execution_count": null,
      "outputs": [
        {
          "output_type": "stream",
          "text": [
            "/usr/local/lib/python3.7/dist-packages/statsmodels/tools/_testing.py:19: FutureWarning: pandas.util.testing is deprecated. Use the functions in the public API at pandas.testing instead.\n",
            "  import pandas.util.testing as tm\n"
          ],
          "name": "stderr"
        },
        {
          "output_type": "stream",
          "text": [
            "                                                               OLS Regression Results                                                              \n",
            "===================================================================================================================================================\n",
            "Dep. Variable:     <statsmodels.regression.linear_model.RegressionResultsWrapper object at 0x7fa873d2dd90>   R-squared:                       0.588\n",
            "Model:                                                                                                 OLS   Adj. R-squared:                  0.582\n",
            "Method:                                                                                      Least Squares   F-statistic:                     99.84\n",
            "Date:                                                                                     Wed, 31 Mar 2021   Prob (F-statistic):           4.13e-15\n",
            "Time:                                                                                             15:40:33   Log-Likelihood:                 128.45\n",
            "No. Observations:                                                                                       72   AIC:                            -252.9\n",
            "Df Residuals:                                                                                           70   BIC:                            -248.3\n",
            "Df Model:                                                                                                1                                         \n",
            "Covariance Type:                                                                                 nonrobust                                         \n",
            "==============================================================================\n",
            "                 coef    std err          t      P>|t|      [0.025      0.975]\n",
            "------------------------------------------------------------------------------\n",
            "const          0.0173      0.005      3.491      0.001       0.007       0.027\n",
            "x1             1.1298      0.113      9.992      0.000       0.904       1.355\n",
            "==============================================================================\n",
            "Omnibus:                        0.660   Durbin-Watson:                   2.029\n",
            "Prob(Omnibus):                  0.719   Jarque-Bera (JB):                0.703\n",
            "Skew:                          -0.217   Prob(JB):                        0.704\n",
            "Kurtosis:                       2.784   Cond. No.                         23.3\n",
            "==============================================================================\n",
            "\n",
            "Warnings:\n",
            "[1] Standard Errors assume that the covariance matrix of the errors is correctly specified.\n"
          ],
          "name": "stdout"
        },
        {
          "output_type": "execute_result",
          "data": {
            "text/plain": [
              "array([0.0172864 , 1.12976075])"
            ]
          },
          "metadata": {
            "tags": []
          },
          "execution_count": 9
        }
      ]
    }
  ]
}