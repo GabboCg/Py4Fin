{
  "nbformat": 4,
  "nbformat_minor": 0,
  "metadata": {
    "colab": {
      "name": "py4fin_clase_07_pauta.ipynb",
      "provenance": [],
      "collapsed_sections": []
    },
    "kernelspec": {
      "name": "python3",
      "display_name": "Python 3"
    }
  },
  "cells": [
    {
      "cell_type": "markdown",
      "metadata": {
        "id": "Hcckbt6119D3"
      },
      "source": [
        "# <img src=\"https://escudouchile.files.wordpress.com/2012/07/logo-economia-u-de-chile.jpg\" height=\"250\" /> \n",
        "\n",
        "# Introducción a Python para las Finanzas\n",
        "\n",
        "## _&gt; Análisis de Datos con Pandas (Pauta)_\n",
        "\n",
        "Gabriel E. Cabrera, M.Sc.<br>\n",
        "<span style = 'font-size: 50%;'>Universidad de Chile<br>\n",
        "Magister en Finanzas - Full Time</span>\n",
        "\n",
        "*Otoño 2021*\n",
        "\n",
        "> Data! Data! Data! I can’t make bricks without clay!\n",
        "<br> <div align=\"right\">— __Sherlock Holmes__ </div>"
      ]
    },
    {
      "cell_type": "markdown",
      "metadata": {
        "id": "Lg83RteHQ-XN"
      },
      "source": [
        "La librería Pandas está pensada para análisis de datos del tipo tabular. No solo provee clases y funciones útiles, también permite aplicar funciones desde otras librerías como NumPy.\n",
        "\n",
        "Existen dos tipos de estructuras fundamentales en Pandas:\n",
        "\n",
        "| Tipo de objeto | Descripción                                  | Usado para                              |\n",
        "|:---------------|:---------------------------------------------|:----------------------------------------|\n",
        "| `DataFrame`    | Objeto de 2-dimensiones con índice (`index`) | Datos tabulares organizados en columnas |\n",
        "| `Series`       | Objeto de 1-dimensión con índice (`index`)   | Serie (de tiempo) de datos única        |\n",
        "\n",
        "Para importar Pandas:"
      ]
    },
    {
      "cell_type": "code",
      "metadata": {
        "id": "McATdqd3pq5q"
      },
      "source": [
        "# se importa pandas\n",
        "import pandas as pd "
      ],
      "execution_count": null,
      "outputs": []
    },
    {
      "cell_type": "markdown",
      "metadata": {
        "id": "R2oQt8kwXCTF"
      },
      "source": [
        "# Series\n",
        "\n",
        "Una Series es un *array* de una dimensión que contiene una secuencia de valores (como en NumPy) y una etiqueta (*label*) denominada índice (`index`). Para crear una Series: "
      ]
    },
    {
      "cell_type": "code",
      "metadata": {
        "colab": {
          "base_uri": "https://localhost:8080/"
        },
        "id": "I5bN4gzfpBTv",
        "outputId": "265bff68-42f5-4d84-ef97-7131bee22d55"
      },
      "source": [
        "# se crea Series\n",
        "obj = pd.Series([4, 7, -5, 3],                 # se define los datos\n",
        "                index = ['a', 'b', 'c', 'd'])  # se especifica el índice \n",
        "\n",
        "# se verifica el obj\n",
        "obj"
      ],
      "execution_count": null,
      "outputs": [
        {
          "output_type": "execute_result",
          "data": {
            "text/plain": [
              "a    4\n",
              "b    7\n",
              "c   -5\n",
              "d    3\n",
              "dtype: int64"
            ]
          },
          "metadata": {
            "tags": []
          },
          "execution_count": 9
        }
      ]
    },
    {
      "cell_type": "markdown",
      "metadata": {
        "id": "RlZXyxNCXEGW"
      },
      "source": [
        "# DataFrames\n",
        "\n",
        "Un DataFrame es una estructura de 2-dimensiones con datos etiquetados (*labels*), índice en las filas como en las columnas. La columna potencialmente puede contener diferentes tipos de datos. Para crear un objeto `DataFrame`:"
      ]
    },
    {
      "cell_type": "code",
      "metadata": {
        "colab": {
          "base_uri": "https://localhost:8080/",
          "height": 173
        },
        "id": "hZ1rRyR6Tj0b",
        "outputId": "0ae86daf-bb0e-4988-ce3f-063a429c9ea6"
      },
      "source": [
        "# se crea DataFrame\n",
        "df = pd.DataFrame([10, 20, 30, 40],              # se define los datos\n",
        "                  columns = ['numbers'],         # nombre de columna \n",
        "                  index = ['a', 'b', 'c', 'd'])  # se especifica el índice \n",
        "\n",
        "# se verifica df\n",
        "df "
      ],
      "execution_count": null,
      "outputs": [
        {
          "output_type": "execute_result",
          "data": {
            "text/html": [
              "<div>\n",
              "<style scoped>\n",
              "    .dataframe tbody tr th:only-of-type {\n",
              "        vertical-align: middle;\n",
              "    }\n",
              "\n",
              "    .dataframe tbody tr th {\n",
              "        vertical-align: top;\n",
              "    }\n",
              "\n",
              "    .dataframe thead th {\n",
              "        text-align: right;\n",
              "    }\n",
              "</style>\n",
              "<table border=\"1\" class=\"dataframe\">\n",
              "  <thead>\n",
              "    <tr style=\"text-align: right;\">\n",
              "      <th></th>\n",
              "      <th>numbers</th>\n",
              "    </tr>\n",
              "  </thead>\n",
              "  <tbody>\n",
              "    <tr>\n",
              "      <th>a</th>\n",
              "      <td>10</td>\n",
              "    </tr>\n",
              "    <tr>\n",
              "      <th>b</th>\n",
              "      <td>20</td>\n",
              "    </tr>\n",
              "    <tr>\n",
              "      <th>c</th>\n",
              "      <td>30</td>\n",
              "    </tr>\n",
              "    <tr>\n",
              "      <th>d</th>\n",
              "      <td>40</td>\n",
              "    </tr>\n",
              "  </tbody>\n",
              "</table>\n",
              "</div>"
            ],
            "text/plain": [
              "   numbers\n",
              "a       10\n",
              "b       20\n",
              "c       30\n",
              "d       40"
            ]
          },
          "metadata": {
            "tags": []
          },
          "execution_count": 5
        }
      ]
    },
    {
      "cell_type": "markdown",
      "metadata": {
        "id": "6p3TGIAUUI1g"
      },
      "source": [
        "Es importante notar que:\n",
        "\n",
        "* Los datos están organizados en columna (puede tener nombres personalizados)\n",
        "* Hay un índice que puede tomar diferentes formatos (e.g números, *strings*, etc).\n",
        "\n",
        "Para acceder al índice:"
      ]
    },
    {
      "cell_type": "code",
      "metadata": {
        "colab": {
          "base_uri": "https://localhost:8080/"
        },
        "id": "ElTWSVS9T--D",
        "outputId": "b73b43de-7fe3-4215-f570-426c120b8568"
      },
      "source": [
        "# extrae el index\n",
        "df.index"
      ],
      "execution_count": null,
      "outputs": [
        {
          "output_type": "execute_result",
          "data": {
            "text/plain": [
              "Index(['a', 'b', 'c', 'd'], dtype='object')"
            ]
          },
          "metadata": {
            "tags": []
          },
          "execution_count": 3
        }
      ]
    },
    {
      "cell_type": "markdown",
      "metadata": {
        "id": "xqlDliMhUoPM"
      },
      "source": [
        "Para ver el nombre de las columnas:"
      ]
    },
    {
      "cell_type": "code",
      "metadata": {
        "colab": {
          "base_uri": "https://localhost:8080/"
        },
        "id": "lxG5J_H9UrFQ",
        "outputId": "9e71d6c6-e456-4e90-e3b3-10414b9b1fdb"
      },
      "source": [
        "# extrae columna\n",
        "df.columns"
      ],
      "execution_count": null,
      "outputs": [
        {
          "output_type": "execute_result",
          "data": {
            "text/plain": [
              "Index(['numbers'], dtype='object')"
            ]
          },
          "metadata": {
            "tags": []
          },
          "execution_count": 4
        }
      ]
    },
    {
      "cell_type": "markdown",
      "metadata": {
        "id": "Ne_KkNBFp-NE"
      },
      "source": [
        "Se puede pasar una Series a un DataFrame:"
      ]
    },
    {
      "cell_type": "code",
      "metadata": {
        "colab": {
          "base_uri": "https://localhost:8080/",
          "height": 173
        },
        "id": "peWM_-75qFSd",
        "outputId": "d63f070e-c489-4b41-fa20-664ee2536644"
      },
      "source": [
        "# serie a df \n",
        "obj_to_df = obj.to_frame()\n",
        "\n",
        "# se le asigna el nombre de la columna \n",
        "obj_to_df.columns = ['numbers']\n",
        "\n",
        "# verifica obj_to_df\n",
        "obj_to_df"
      ],
      "execution_count": null,
      "outputs": [
        {
          "output_type": "execute_result",
          "data": {
            "text/html": [
              "<div>\n",
              "<style scoped>\n",
              "    .dataframe tbody tr th:only-of-type {\n",
              "        vertical-align: middle;\n",
              "    }\n",
              "\n",
              "    .dataframe tbody tr th {\n",
              "        vertical-align: top;\n",
              "    }\n",
              "\n",
              "    .dataframe thead th {\n",
              "        text-align: right;\n",
              "    }\n",
              "</style>\n",
              "<table border=\"1\" class=\"dataframe\">\n",
              "  <thead>\n",
              "    <tr style=\"text-align: right;\">\n",
              "      <th></th>\n",
              "      <th>numbers</th>\n",
              "    </tr>\n",
              "  </thead>\n",
              "  <tbody>\n",
              "    <tr>\n",
              "      <th>a</th>\n",
              "      <td>4</td>\n",
              "    </tr>\n",
              "    <tr>\n",
              "      <th>b</th>\n",
              "      <td>7</td>\n",
              "    </tr>\n",
              "    <tr>\n",
              "      <th>c</th>\n",
              "      <td>-5</td>\n",
              "    </tr>\n",
              "    <tr>\n",
              "      <th>d</th>\n",
              "      <td>3</td>\n",
              "    </tr>\n",
              "  </tbody>\n",
              "</table>\n",
              "</div>"
            ],
            "text/plain": [
              "   numbers\n",
              "a        4\n",
              "b        7\n",
              "c       -5\n",
              "d        3"
            ]
          },
          "metadata": {
            "tags": []
          },
          "execution_count": 13
        }
      ]
    },
    {
      "cell_type": "markdown",
      "metadata": {
        "id": "KRJfMEaprn5r"
      },
      "source": [
        "En resumen la estructura de DataFrame:\n",
        "\n",
        "![texto alternativo](https://www.cdn.geeksforgeeks.org/wp-content/uploads/creating_dataframe1.png)\n",
        "\n",
        "Para ver la documentación de la librería Pandas ir a: https://pandas.pydata.org/docs/"
      ]
    },
    {
      "cell_type": "markdown",
      "metadata": {
        "id": "UCp0rOO6zGwc"
      },
      "source": [
        "# Aplicación"
      ]
    },
    {
      "cell_type": "markdown",
      "metadata": {
        "id": "IteC-OFFcNi2"
      },
      "source": [
        "1. El archivo `gapminder.xlsx` y `gapminder.dta` contiene un extracto del proyecto Gapminder sobre expectativa de vida (`lifeExp`), PIB per cápita (`gdpPercap`) y población (`pop`), según país (continente). Utilizando la librería Pandas, cargue a su espacio de trabajo ambas bases de datos. Nombre uno de los dos `DataFrame` como `gapminder`. "
      ]
    },
    {
      "cell_type": "code",
      "metadata": {
        "id": "yrvX7SAFRSZo"
      },
      "source": [
        "!wget -O gapminder.dta https://www.dropbox.com/s/6hrv27zrmchhrwx/gapminder.dta?dl=0\n",
        "\n",
        "!wget -O gapminder.xlsx https://www.dropbox.com/s/dftzy0mgr9xiy4q/gapminder.xlsx?dl=0"
      ],
      "execution_count": null,
      "outputs": []
    },
    {
      "cell_type": "code",
      "metadata": {
        "id": "IzzzQMtTUt1A"
      },
      "source": [
        "# importa pandas \n",
        "import pandas as pd \n",
        "\n",
        "# \"lee\" xlsx\n",
        "gapminder = pd.read_excel('gapminder.xlsx')\n",
        "\n",
        "# \"lee\" dta formato de stata\n",
        "pd.read_stata('gapminder.dta')"
      ],
      "execution_count": null,
      "outputs": []
    },
    {
      "cell_type": "markdown",
      "metadata": {
        "id": "FRF-iNPfcZer"
      },
      "source": [
        "2. Muestre las 10 primeras y últimas observaciones de `gapminder`."
      ]
    },
    {
      "cell_type": "code",
      "metadata": {
        "id": "tfY8ruJHcZ0Y"
      },
      "source": [
        "# muestra 10 primeras observaciones\n",
        "gapminder.head()\n",
        "\n",
        "# muestra 10 últimas observaciones\n",
        "gapminder.tail()"
      ],
      "execution_count": null,
      "outputs": []
    },
    {
      "cell_type": "markdown",
      "metadata": {
        "id": "piWVeoxZcZ7Z"
      },
      "source": [
        "3. Genere un nuevo `DataFrame` que contenga solo los países del continente americano (`americas`) en el año 2007."
      ]
    },
    {
      "cell_type": "code",
      "metadata": {
        "id": "oXe1drk0gXa4"
      },
      "source": [
        "# extrae columnas\n",
        "gapminder.columns\n",
        "\n",
        "# extrae rl column index de la columna continent\n",
        "gapminder.columns.get_loc('continent')\n",
        "\n",
        "# extrae index\n",
        "gapminder.index\n",
        "\n",
        "# valores únicos de la variable continent\n",
        "gapminder.continent.unique()\n",
        "\n",
        "'''\n",
        "Seleccionar variables (columnas) de un DataFrame\n",
        "'''\n",
        "# forma 1: \n",
        "# selecciona la variable continent como series\n",
        "gapminder.continent\n",
        "\n",
        "# forma 2: \n",
        "# selecciona la variable continent como series\n",
        "gapminder['continent']\n",
        "\n",
        "# forma 3: \n",
        "# selecciona la variable continent como series utilizando loc (se puede seleccionar filas)\n",
        "gapminder.loc[:,'continent']\n",
        "# selecciona la variable continent como series utilizando iloc (se puede seleccionar filas)\n",
        "gapminder.iloc[:,1]\n",
        "\n",
        "# forma 4: \n",
        "# selecciona la variable continent y lifeExp utilizando loc (se puede seleccionar filas)\n",
        "gapminder.loc[:,['continent','lifeExp']]\n",
        "# selecciona la variable continent y lifeExp utilizando iloc (se puede seleccionar filas)\n",
        "gapminder.iloc[:,[1,3]]\n",
        "\n",
        "# forma 5: \n",
        "# selecciona las variables desde continent hasta pop (la incluye) utilizando loc (se puede seleccionar filas)\n",
        "gapminder.loc[:,'continent':'pop']\n",
        "# selecciona las variables desde continent hasta pop (4) utilizando iloc (se puede seleccionar filas)\n",
        "gapminder.iloc[:,1:5]\n",
        "\n",
        "# forma 6: \n",
        "# selecciona la variable continent y lifeExp (no se puede seleccionar filas)\n",
        "gapminder[['continent','lifeExp']]\n",
        "\n",
        "'''\n",
        "Seleccionar variables (columnas) de un DataFrame\n",
        "'''\n",
        "# filtra continent == \"Americas\"\n",
        "gapminder[gapminder['continent'] == \"Americas\"]\n",
        "\n",
        "# filtra continent == \"Americas\" o filtra continent == \"Asia\"\n",
        "gapminder[(gapminder['continent'] == \"Americas\") | (gapminder['continent'] == \"Asia\")]\n",
        "\n",
        "# filtra (continent == \"Americas\" o filtra continent == \"Asia\") y year == 2007\n",
        "part_a = ((gapminder['continent'] == \"Americas\") | (gapminder['continent'] == \"Asia\"))\n",
        "part_b = (gapminder['year'] == 2007)\n",
        "gapminder[part_a & part_b]\n",
        "          \n",
        "# filtra continent == \"Americas\" o filtra year == 2007\n",
        "gapminder1 = gapminder[(gapminder['continent'] == \"Americas\") & (gapminder['year'] == 2007)]"
      ],
      "execution_count": null,
      "outputs": []
    },
    {
      "cell_type": "markdown",
      "metadata": {
        "id": "cmelPlk7gYDA"
      },
      "source": [
        "4. A partir del `DataFrame` generado en (3), muestre:\n",
        "\n",
        "    * El país con mayor PIB per cápita en el año 2007\n",
        "    \n",
        "    * El país con menor PIB per cápita en el año 2007\n",
        "\n",
        "  ¿Qué observa en el índice?"
      ]
    },
    {
      "cell_type": "code",
      "metadata": {
        "id": "pPyqm2KQcaDE"
      },
      "source": [
        "# ordena los valores de mayor a menor y muestra la primera observación\n",
        "gapminder1.sort_values(['gdpPercap'], ascending=False).head(1)\n",
        "\n",
        "# ordena los valores de menor a mayor y muestra la última observación\n",
        "gapminder1.sort_values(['gdpPercap'], ascending=False).tail(1)"
      ],
      "execution_count": null,
      "outputs": []
    },
    {
      "cell_type": "markdown",
      "metadata": {
        "id": "bc-w56TvvW16"
      },
      "source": [
        "5. Reinicie el índice del `DataFrame` generado en (3). Luego elimine las variables `country` y `continent`."
      ]
    },
    {
      "cell_type": "code",
      "metadata": {
        "id": "XW9JK6bPvWaD"
      },
      "source": [
        "# reinicia el índice y lo \"bota\"\n",
        "gapminder1 = gapminder1.reset_index(drop=True)\n",
        "\n",
        "# elimina/remueve la variable (columna) continent y year (axis=1)\n",
        "gapminder1 = gapminder1.drop(['continent','year'], axis = 1)\n",
        "\n",
        "# elimina/remueve la fila con índice 0 y 1 (axis=0)\n",
        "gapminder1.drop([0,1], axis=0)\n",
        "\n",
        "# agrega como índice el país, lo realiza in-place\n",
        "gapminder1.set_index('country', inplace=True)\n",
        "\n",
        "# elimina/remueve la fila con el índice igual a Ecuador\n",
        "gapminder1.drop(['Ecuador'], axis=0)"
      ],
      "execution_count": null,
      "outputs": []
    },
    {
      "cell_type": "markdown",
      "metadata": {
        "id": "MNiFhd4Qvxwu"
      },
      "source": [
        "6. Utilizando una *list comprehension*, renombre las columnas con su nombre original en minúscula."
      ]
    },
    {
      "cell_type": "code",
      "metadata": {
        "id": "55F8dpn1wL2D"
      },
      "source": [
        "# re-asigna a la columna el nombre original pero en minuscula \n",
        "gapminder1.columns = [i.lower() for i in list(gapminder1.columns)]\n",
        "\n",
        "# renombra la columna country por pais\n",
        "gapminder.rename(columns={'country':'país'})"
      ],
      "execution_count": null,
      "outputs": []
    },
    {
      "cell_type": "markdown",
      "metadata": {
        "id": "_X0INkvvgsB_"
      },
      "source": [
        "7. Genere una variable que contenga la expectativa de vida (`lifeexp`) en meses. Realice definiendo una función y utilizando una función anónima."
      ]
    },
    {
      "cell_type": "code",
      "metadata": {
        "id": "Y3eBRZ0ggsJl"
      },
      "source": [
        "# genera la variable lifeeexp * 12 y la asigna al DataFrame gapminder1\n",
        "gapminder1['lifeexp_mes1'] = gapminder1['lifeexp'] * 12\n",
        "\n",
        "# genera la variable lifeeexp * 12 y la asigna al DataFrame gapminder1 utilizando una función anónima\n",
        "gapminder1['lifeexp_mes2'] = gapminder1['lifeexp'].apply(lambda x: x * 12) \n",
        "\n",
        "# genera la variable lifeeexp * 12 y la asigna al DataFrame gapminder1 definiendo primero una función \n",
        "def mensual(x):\n",
        "    res = x * 12\n",
        "    return(res)\n",
        "\n",
        "# si no se selecciona una columna lo aplica a todo el DataFrame\n",
        "gapminder1['lifeexp_mes3'] = gapminder1['lifeexp'].apply(mensual) "
      ],
      "execution_count": null,
      "outputs": []
    },
    {
      "cell_type": "markdown",
      "metadata": {
        "id": "UJNb42nfhD0p"
      },
      "source": [
        "8. Utilizando la base de datos original:\n",
        "\n",
        "    a. Trabaje solo con los paises Europeos.  \n",
        "\n",
        "    b. Genere el crecimiento del PIB per cápita por país.\n",
        "\n",
        "    c. Elimine los `NAs`.\n",
        "\n",
        "    d. Construya una breve estadística descriptiva por país.\n",
        "\n",
        "    e. Guarde las estadísticas descriptivas en un archivo con extensión .xlsx (excel).   "
      ]
    },
    {
      "cell_type": "code",
      "metadata": {
        "id": "fdp97g0QhgFA"
      },
      "source": [
        "'''a'''\n",
        "df_europe = gapminder[(gapminder['continent'] == \"Europe\")].copy()\n",
        "df_europe.reset_index(drop=True, inplace=True)\n",
        "\n",
        "'''b'''\n",
        "# agrupa por country y aplica el crecimiento en una función anónima\n",
        "df_europe['gdpgrowth'] = df_europe.groupby('country')['gdpPercap'].apply(lambda x: (x / x.shift(1) - 1))\n",
        "\n",
        "'''c'''\n",
        "df_europe.dropna(subset=['gdpgrowth'], inplace=True) # selecciona un subconjunto (gdpgrowth) y los elimina in-place\n",
        "df_europe.dropna() # elimina todos los NA (fila y columna)\n",
        "\n",
        "'''d'''\n",
        "# promedio por país agrupado\n",
        "df_europe.groupby('country').mean()\n",
        "# describe por país agrupado\n",
        "desc_stat = df_europe.groupby(['country']).describe()\n",
        "\n",
        "'''e'''\n",
        "# exporta a excel la estadística descriptiva\n",
        "desc_stat.to_excel(\"desc_stat_europe.xlsx\")"
      ],
      "execution_count": null,
      "outputs": []
    }
  ]
}