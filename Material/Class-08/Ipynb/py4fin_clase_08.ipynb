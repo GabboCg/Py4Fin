{
  "nbformat": 4,
  "nbformat_minor": 0,
  "metadata": {
    "colab": {
      "name": "py4fin_clase_08.ipynb",
      "provenance": [],
      "collapsed_sections": []
    },
    "kernelspec": {
      "name": "python3",
      "display_name": "Python 3"
    }
  },
  "cells": [
    {
      "cell_type": "markdown",
      "metadata": {
        "id": "Hcckbt6119D3"
      },
      "source": [
        "# <img src=\"https://escudouchile.files.wordpress.com/2012/07/logo-economia-u-de-chile.jpg\" height=\"250\" /> \n",
        "\n",
        "# Introducción a Python para las Finanzas\n",
        "\n",
        "## _&gt; Datos Bursátiles Utilizando la API de Yahoo Finance (Pauta)_\n",
        "\n",
        "Gabriel E. Cabrera, M.Sc.<br>\n",
        "<span style = 'font-size: 50%;'>Universidad de Chile<br>\n",
        "Magister en Finanzas - Full Time</span>\n",
        "\n",
        "*Otoño 2021*\n",
        "\n",
        "> Use a picture. It’s worth a thousand words.\n",
        "<br> <div align=\"right\">— __Arthur Brisbane__ </div>"
      ]
    },
    {
      "cell_type": "markdown",
      "metadata": {
        "id": "8eUIK6jbaHCC"
      },
      "source": [
        "Las API (Interfaz de Programación de Aplicaciones) permiten que sus productos y servicios se comuniquen con otros, sin necesidad de saber cómo están implementados. Una API muy usada es la de Yahoo Finance, que permite al usuario utilizar y descargar datos bursátiles con distinta frecuencia. En python existe la librería `yfinance` que pemite acceder a dicha API. \n",
        "\n",
        "Para instalar `yfinance`:"
      ]
    },
    {
      "cell_type": "code",
      "metadata": {
        "id": "TzZj5jCgbZfJ"
      },
      "source": [
        "!pip install yfinance "
      ],
      "execution_count": null,
      "outputs": []
    },
    {
      "cell_type": "markdown",
      "metadata": {
        "id": "huyhJZ40bb47"
      },
      "source": [
        "Vistar https://pypi.org/project/yfinance/ para ver la documentación de la librería. "
      ]
    },
    {
      "cell_type": "markdown",
      "metadata": {
        "id": "xvGZh4FKb-dc"
      },
      "source": [
        "# API Yahoo Finance"
      ]
    },
    {
      "cell_type": "markdown",
      "metadata": {
        "id": "m6JPlVOYcL7z"
      },
      "source": [
        "1. Descargué la información bursátil de GameStop (`GME`) desde 2015-01-01 hasta 2021-03-01 con frecuencia diaria."
      ]
    },
    {
      "cell_type": "code",
      "metadata": {
        "id": "hqaHWmpnGk4C"
      },
      "source": [
        "# importa pandas\n",
        "import pandas as pd\n",
        "# import numpy\n",
        "import numpy as np \n",
        "# import ytfinance\n",
        "import yfinance as yf \n",
        "\n",
        "# ticker \n",
        "asset = \"GME\"\n",
        "\n",
        "# descarga la información OHCL del GameStop\n",
        "gme_ohcl_daily = yf.download(asset, start = \"2015-01-01\", end = \"2021-03-01\")"
      ],
      "execution_count": null,
      "outputs": []
    },
    {
      "cell_type": "markdown",
      "metadata": {
        "id": "lHyNy1mZYC-M"
      },
      "source": [
        "2. Realice una breve estadística descriptiva que incluya: el total de observaciones, promedio, desviación estandar, mínimo, máximo, percentil 25, 50 y 75."
      ]
    },
    {
      "cell_type": "code",
      "metadata": {
        "id": "09UxTgmPGlRw"
      },
      "source": [
        ""
      ],
      "execution_count": null,
      "outputs": []
    },
    {
      "cell_type": "markdown",
      "metadata": {
        "id": "aq9R4bjTdxPu"
      },
      "source": [
        "3. Extraiga del índice el año, mes y día."
      ]
    },
    {
      "cell_type": "code",
      "metadata": {
        "id": "poFbwjngGlow"
      },
      "source": [
        ""
      ],
      "execution_count": null,
      "outputs": []
    },
    {
      "cell_type": "markdown",
      "metadata": {
        "id": "a-xrES-GYJU7"
      },
      "source": [
        "4. Seleccione el precio al cierre (`Close`)."
      ]
    },
    {
      "cell_type": "code",
      "metadata": {
        "id": "QRCBryyRGmAY"
      },
      "source": [
        ""
      ],
      "execution_count": null,
      "outputs": []
    },
    {
      "cell_type": "markdown",
      "metadata": {
        "id": "QxEe3lalXmqR"
      },
      "source": [
        "# Cambios a través del tiempo"
      ]
    },
    {
      "cell_type": "markdown",
      "metadata": {
        "id": "ZHsS3ci4XrSo"
      },
      "source": [
        "1. Utilizando una función lambda (anónima) genere la diferencia del precio al cierre:\n",
        "\n",
        "  $$\n",
        "  \\Delta_t = p_{t} - p_{t-1}\n",
        "  $$\n",
        "\n",
        "  Donde $p_t$ es el precio al cierre en $t$ y $p_{t-1}$ el precio al cierre en $p_{t-1}$ (rezago)."
      ]
    },
    {
      "cell_type": "code",
      "metadata": {
        "id": "ez922sPgGjDk"
      },
      "source": [
        ""
      ],
      "execution_count": null,
      "outputs": []
    },
    {
      "cell_type": "markdown",
      "metadata": {
        "id": "f17YManYXtYv"
      },
      "source": [
        "2. Utilizando una función lambda (anónima) genere el primer rezago de $p_t$."
      ]
    },
    {
      "cell_type": "code",
      "metadata": {
        "id": "rYoMWo2cGjbK"
      },
      "source": [
        ""
      ],
      "execution_count": null,
      "outputs": []
    },
    {
      "cell_type": "markdown",
      "metadata": {
        "id": "9WUUuqmAXvPM"
      },
      "source": [
        "3. Divida la variable creada en (1) por la variable creada en (2). "
      ]
    },
    {
      "cell_type": "code",
      "metadata": {
        "id": "pQ1eZsfyGjyO"
      },
      "source": [
        ""
      ],
      "execution_count": null,
      "outputs": []
    },
    {
      "cell_type": "markdown",
      "metadata": {
        "id": "HcPka8KPgv7V"
      },
      "source": [
        "4. Utilize el método `pct_change()` y compárelo con la variable creada en (3). "
      ]
    },
    {
      "cell_type": "code",
      "metadata": {
        "id": "hi6voCf7GkMb"
      },
      "source": [
        ""
      ],
      "execution_count": null,
      "outputs": []
    },
    {
      "cell_type": "markdown",
      "metadata": {
        "id": "IIm_VTRQX3De"
      },
      "source": [
        "# Visualización Básica de Series de Tiempo"
      ]
    },
    {
      "cell_type": "markdown",
      "metadata": {
        "id": "9KQ8w3PqncY7"
      },
      "source": [
        "1. Grafique el precio al cierre de GameStop."
      ]
    },
    {
      "cell_type": "code",
      "metadata": {
        "id": "VlONuvk3Gmvo"
      },
      "source": [
        ""
      ],
      "execution_count": null,
      "outputs": []
    },
    {
      "cell_type": "markdown",
      "metadata": {
        "id": "btrgDcTKYPpU"
      },
      "source": [
        "## Análisis Técnico: Media Movil"
      ]
    },
    {
      "cell_type": "markdown",
      "metadata": {
        "id": "H3hVEH1apZ5d"
      },
      "source": [
        "1. Utilizando el precio al cierre de GameStop (`GME`) genere:\n",
        "\n",
        "  a. El precio mínimo movil a 20 días.\n",
        "\n",
        "  b. La media movil a 20 días (corto plazo).\n",
        "\n",
        "  c. El precio máximo movil a 20 días.\n",
        "\n",
        "  Elimine los `NAs` y grafique las variables creadas desde 2020-01-01 hasta 2020-09-08.  "
      ]
    },
    {
      "cell_type": "code",
      "metadata": {
        "id": "I8LTeXS1GnKv"
      },
      "source": [
        ""
      ],
      "execution_count": null,
      "outputs": []
    },
    {
      "cell_type": "markdown",
      "metadata": {
        "id": "-9p4arhZYa9J"
      },
      "source": [
        "2. Al DataFrame creado en (1), genere:\n",
        "\n",
        "  a. La media movil a 252 días (largo plazo).\n",
        "\n",
        "  b. Una variable que sea igua a 1 si media movil a 20 días > media movil a 252 días, -1 caso contrario.\n",
        "\n",
        "  Elimine los `NAs` y grafique las variables creadas desde 2020-01-01 hasta 2020-09-08.  "
      ]
    },
    {
      "cell_type": "code",
      "metadata": {
        "id": "pIeulpJPGnkz"
      },
      "source": [
        ""
      ],
      "execution_count": null,
      "outputs": []
    },
    {
      "cell_type": "markdown",
      "metadata": {
        "id": "SiMPnXnV2ILD"
      },
      "source": [
        "3. Filtre los datos OHCL de GameStop entre 2020-01-01 y 2020-09-08. Luego utilizando la librería `plotly` grafique un *Candle-Stick* (ver https://plotly.com/python/candlestick-charts/)."
      ]
    },
    {
      "cell_type": "code",
      "metadata": {
        "id": "Hw3eNaDfGoHw"
      },
      "source": [
        "# importa plotly\n",
        "import plotly.graph_objects as go\n",
        "\n",
        "# filtra los datos OHCL\n",
        "df_plotly = gme_ohcl_daily[(gme_ohcl_daily.index >= \"2020-01-01\") & (gme_ohcl_daily.index <= \"2020-09-08\")]\n",
        "\n",
        "# grafica candlestick\n",
        "fig_plotly = go.Figure(data=[go.Candlestick(x=df_plotly.index,\n",
        "                                            open=df_plotly['Open'],\n",
        "                                            high=df_plotly['High'],\n",
        "                                            low=df_plotly['Low'],\n",
        "                                            close=df_plotly['Close'])])\n",
        "\n",
        "# se visualiza\n",
        "fig_plotly.show()"
      ],
      "execution_count": null,
      "outputs": []
    },
    {
      "cell_type": "markdown",
      "metadata": {
        "id": "BcBx3lPwYncQ"
      },
      "source": [
        "# Descargar Multiples índices"
      ]
    },
    {
      "cell_type": "markdown",
      "metadata": {
        "id": "Uut8xkJMwW9I"
      },
      "source": [
        "1. Utilizando la librería `yfinance`, descargue con frecuencia mensual la información OHCL desde 2000-01-01 hasta 2021-03-01 de los siguientes índices bursátiles: Facebook (`FB`), Amazon (`AMZN`), Apple (`AAPL`), Netflix (`NFLX`) y Google (`GOOG`)."
      ]
    },
    {
      "cell_type": "code",
      "metadata": {
        "id": "AJGT3GXHGoml"
      },
      "source": [
        ""
      ],
      "execution_count": null,
      "outputs": []
    },
    {
      "cell_type": "markdown",
      "metadata": {
        "id": "0OsHtxSlxkK-"
      },
      "source": [
        "2. Grafique la evolución de los precios para todos los índices.  "
      ]
    },
    {
      "cell_type": "code",
      "metadata": {
        "id": "t9M6A2SLGo6k"
      },
      "source": [
        ""
      ],
      "execution_count": null,
      "outputs": []
    },
    {
      "cell_type": "markdown",
      "metadata": {
        "id": "zosRPqbLz0V7"
      },
      "source": [
        "3. Realice un *reshape* al DataFrame generado en (1) de manera que las columnas queden en las filas."
      ]
    },
    {
      "cell_type": "code",
      "metadata": {
        "id": "E09YNiygGpYp"
      },
      "source": [
        ""
      ],
      "execution_count": null,
      "outputs": []
    },
    {
      "cell_type": "markdown",
      "metadata": {
        "id": "xTORQN2n0dKN"
      },
      "source": [
        "4. Devuelva el DataFrame anterior a su forma original."
      ]
    },
    {
      "cell_type": "code",
      "metadata": {
        "id": "ETNrqcS3Gpx0"
      },
      "source": [
        ""
      ],
      "execution_count": null,
      "outputs": []
    }
  ]
}